{
 "cells": [
  {
   "cell_type": "code",
   "execution_count": 102,
   "metadata": {},
   "outputs": [],
   "source": [
    "import geopandas as gpd\n",
    "from shapely.geometry import Point\n",
    "import pandas as pd\n",
    "import matplotlib.pyplot as plt\n",
    "import numpy as np\n",
    "import gc\n",
    "import seaborn as sns\n",
    "from netCDF4 import Dataset\n",
    "import numpy.ma as ma\n",
    "from statsmodels.stats.weightstats import DescrStatsW\n"
   ]
  },
  {
   "cell_type": "code",
   "execution_count": 154,
   "metadata": {},
   "outputs": [],
   "source": [
    "import warnings\n",
    "warnings.filterwarnings('ignore')"
   ]
  },
  {
   "cell_type": "markdown",
   "metadata": {},
   "source": [
    "# Combine CEJST, EJScreen, and Census race-ethnicity data"
   ]
  },
  {
   "cell_type": "code",
   "execution_count": 155,
   "metadata": {},
   "outputs": [],
   "source": [
    "# import isrm & census block crosswalk\n",
    "isrm_fips_crosswalk = pd.read_csv(\"isrm_with_fips.csv\",index_col = 0)"
   ]
  },
  {
   "cell_type": "code",
   "execution_count": 5,
   "metadata": {},
   "outputs": [],
   "source": [
    "# import ejscreen data\n",
    "# data can be downloaded from EJSCREEN\n",
    "EJSCREEN_2020 = pd.read_csv(\"Justice40/EJSCREEN_2020_USPR.csv\")[\"ID\",\"MINORPCT\",\"LOWINCPCT\",\"PM25\",\"P_MINORPCT\",\"P_LWINCPCT\",\"P_PM25\"]]"
   ]
  },
  {
   "cell_type": "code",
   "execution_count": 10,
   "metadata": {
    "scrolled": true
   },
   "outputs": [],
   "source": [
    "isrm_fips_crosswalk[\"bg_ID\"] = (isrm_fips_crosswalk[\"block_fip\"]/1000).astype(int)"
   ]
  },
  {
   "cell_type": "code",
   "execution_count": 40,
   "metadata": {},
   "outputs": [],
   "source": [
    "isrm_bg_crosswalk = isrm_fips_crosswalk.groupby([\"isrm_grid_cell_num\",\"bg_ID\"]).agg({\"population\":\"sum\",\"centroid_latitude\":\"mean\",\"centroid_longitude\":\"mean\"}).reset_index()"
   ]
  },
  {
   "cell_type": "code",
   "execution_count": 41,
   "metadata": {},
   "outputs": [],
   "source": [
    "isrm_bg_crosswalk = isrm_bg_crosswalk.rename(columns = {\"isrm_grid_cell_num\":\"isrm\",\"bg_ID\":\"ID\"}).merge(EJSCREEN_2020,how = \"left\")"
   ]
  },
  {
   "cell_type": "code",
   "execution_count": 42,
   "metadata": {},
   "outputs": [],
   "source": [
    "isrm_ejscreen = isrm_bg_crosswalk.groupby([\"isrm\"]).count().reset_index()[[\"isrm\"]]\n",
    "for i in isrm_bg_crosswalk.columns[5:13]:\n",
    "    isrm_bg_crosswalk[\"test\"] = isrm_bg_crosswalk[i]*isrm_bg_crosswalk[\"population\"]\n",
    "    g = isrm_bg_crosswalk.groupby([\"isrm\"])\n",
    "    isrm_ejscreen[i]= (g[\"test\"].sum()/g[\"population\"].sum()).values"
   ]
  },
  {
   "cell_type": "code",
   "execution_count": 26,
   "metadata": {},
   "outputs": [],
   "source": [
    "# import race-ethnicity data\n",
    "isrm_pop_race_ethnicity = pd.read_csv(\"isrm_pop_race_ethnicity.csv\",index_col = 0)"
   ]
  },
  {
   "cell_type": "code",
   "execution_count": 119,
   "metadata": {},
   "outputs": [],
   "source": [
    "# merge ejscreen data with race-ethnicity data\n",
    "isrm_multiyear_ejscreen = isrm_pop_race_ethnicity.merge(isrm_ejscreen)"
   ]
  },
  {
   "cell_type": "code",
   "execution_count": 120,
   "metadata": {},
   "outputs": [],
   "source": [
    "# import justice40 race-ethnicity data\n",
    "isrm_pop_race_ethnicity_J40_v1_land=pd.read_csv(\"isrm_pop_race_ethnicity_J40_v1_land.csv\",index_col = 0)\n",
    "isrm_pop_race_ethnicity_outside_v1_land=pd.read_csv(\"isrm_pop_race_ethnicity_outside_v1_land.csv\",index_col = 0)"
   ]
  },
  {
   "cell_type": "code",
   "execution_count": 121,
   "metadata": {},
   "outputs": [],
   "source": [
    "# merge three data sets\n",
    "isrm_multiyear_ejscreen[\"J40_v1_land\"] = np.where(isrm_multiyear_ejscreen.isrm.isin(isrm_pop_race_ethnicity_J40_v1_land.isrm.to_list()),\"T\",\"F\")"
   ]
  },
  {
   "cell_type": "code",
   "execution_count": 122,
   "metadata": {},
   "outputs": [],
   "source": [
    "isrm_multiyear_ejscreen[\"Other_Mixed\"] = isrm_multiyear_ejscreen[[\"Other\",\"Mixed\"]].sum(axis = 1)"
   ]
  },
  {
   "cell_type": "code",
   "execution_count": 123,
   "metadata": {},
   "outputs": [],
   "source": [
    "isrm_multiyear_ejscreen[\"Asian_Pacific\"] = isrm_multiyear_ejscreen[[\"Hawaii\",\"Asian\"]].sum(axis = 1)"
   ]
  },
  {
   "cell_type": "code",
   "execution_count": 124,
   "metadata": {},
   "outputs": [],
   "source": [
    "isrm_multiyear_ejscreen[\"Poverty\"] = isrm_multiyear_ejscreen[\"Population\"]*isrm_multiyear_ejscreen[\"LOWINCPCT\"]\n",
    "isrm_multiyear_ejscreen[\"Non-Poverty\"] = isrm_multiyear_ejscreen[\"Population\"]*(1-isrm_multiyear_ejscreen[\"LOWINCPCT\"])\n",
    "isrm_multiyear_ejscreen[\"POC\"] = isrm_multiyear_ejscreen[\"Population\"]-isrm_multiyear_ejscreen[\"White\"]"
   ]
  },
  {
   "cell_type": "code",
   "execution_count": 218,
   "metadata": {},
   "outputs": [],
   "source": [
    "isrm_multiyear_ejscreen.to_csv(\"isrm_multiyear_ejscreen.csv\")"
   ]
  },
  {
   "cell_type": "code",
   "execution_count": 125,
   "metadata": {},
   "outputs": [],
   "source": [
    "isrm_multiyear_ejscreen_J40 = isrm_multiyear_ejscreen[isrm_multiyear_ejscreen[\"J40_v1_land\"]==\"T\"]\n",
    "isrm_multiyear_ejscreen_Outside = isrm_multiyear_ejscreen[isrm_multiyear_ejscreen[\"J40_v1_land\"]==\"F\"]"
   ]
  },
  {
   "cell_type": "markdown",
   "metadata": {},
   "source": [
    "## Calculate demographic composition for Justice40 and non- Justice40 locations"
   ]
  },
  {
   "cell_type": "code",
   "execution_count": 64,
   "metadata": {},
   "outputs": [],
   "source": [
    "race_composition_list_Total = []\n",
    "for race in [\"White\",\"Hispanic\",\"Black\",\"Asian_Pacific\",\"Native\",\"Other_Mixed\"]:\n",
    "    race_composition_list_Total.append(isrm_multiyear_ejscreen[race].sum()/isrm_multiyear_ejscreen[\"Population\"].sum()*100)\n",
    "    \n",
    "isrm_multiyear_ejscreen_J40 = isrm_multiyear_ejscreen[isrm_multiyear_ejscreen[\"J40_v1_land\"]==\"T\"]\n",
    "isrm_multiyear_ejscreen_Outside = isrm_multiyear_ejscreen[isrm_multiyear_ejscreen[\"J40_v1_land\"]==\"F\"]\n",
    "\n",
    "race_composition_list_J40 = []\n",
    "for race in [\"White\",\"Hispanic\",\"Black\",\"Asian_Pacific\",\"Native\",\"Other_Mixed\"]:\n",
    "    race_composition_list_J40.append(isrm_multiyear_ejscreen_J40[race].sum()/isrm_multiyear_ejscreen_J40[\"Population\"].sum()*100)\n",
    "\n",
    "race_composition_list_Outside = []\n",
    "for race in [\"White\",\"Hispanic\",\"Black\",\"Asian_Pacific\",\"Native\",\"Other_Mixed\"]:\n",
    "    race_composition_list_Outside.append(isrm_multiyear_ejscreen_Outside[race].sum()/isrm_multiyear_ejscreen_Outside[\"Population\"].sum()*100)\n",
    "\n",
    "    race_ethnic_composition_j40 = pd.DataFrame([race_composition_list_Total,race_composition_list_J40,race_composition_list_Outside],index=['Overall (whole US)',\n",
    "                               'Justice40 communities',\n",
    "                               'Other communities'],columns = [\"White\",\"Hispanic\",\"Black\",\"Asian\",\"Native\",\"Other/Mixed\"])"
   ]
  },
  {
   "cell_type": "code",
   "execution_count": 66,
   "metadata": {},
   "outputs": [],
   "source": [
    "race_composition_list_POC_Total = []\n",
    "for race in [\"Hispanic\",\"Black\",\"Asian_Pacific\",\"Native\",\"Other_Mixed\"]:\n",
    "    race_composition_list_POC_Total.append(isrm_multiyear_ejscreen[race].sum()/(isrm_multiyear_ejscreen[\"Population\"].sum()-isrm_multiyear_ejscreen[\"White\"].sum())*100)\n",
    "    \n",
    "isrm_multiyear_ejscreen_J40 = isrm_multiyear_ejscreen[isrm_multiyear_ejscreen[\"J40_v1_land\"]==\"T\"]\n",
    "isrm_multiyear_ejscreen_Outside = isrm_multiyear_ejscreen[isrm_multiyear_ejscreen[\"J40_v1_land\"]==\"F\"]\n",
    "\n",
    "race_composition_list_POC_J40 = []\n",
    "for race in [\"Hispanic\",\"Black\",\"Asian_Pacific\",\"Native\",\"Other_Mixed\"]:\n",
    "    race_composition_list_POC_J40.append(isrm_multiyear_ejscreen_J40[race].sum()/(isrm_multiyear_ejscreen_J40[\"Population\"].sum()-isrm_multiyear_ejscreen_J40[\"White\"].sum())*100)\n",
    "race_composition_list_POC_Outside = []\n",
    "for race in [\"Hispanic\",\"Black\",\"Asian_Pacific\",\"Native\",\"Other_Mixed\"]:\n",
    "    race_composition_list_POC_Outside.append(isrm_multiyear_ejscreen_Outside[race].sum()/(isrm_multiyear_ejscreen_Outside[\"Population\"].sum()-isrm_multiyear_ejscreen_Outside[\"White\"].sum())*100)\n",
    "\n",
    "\n",
    "race_ethnic_composition_POC_j40 = pd.DataFrame([race_composition_list_POC_Total,race_composition_list_POC_J40,race_composition_list_POC_Outside],index=['Overall (whole US)',\n",
    "                               'Justice40 communities',\n",
    "                               'Other communities'],columns = [\"Hispanic\",\"Black\",\"Asian\",\"Native\",\"Other/Mixed\"])#.reset_index()#.rename(columns = {\"index\":\"Race\"})"
   ]
  },
  {
   "cell_type": "code",
   "execution_count": 68,
   "metadata": {},
   "outputs": [],
   "source": [
    "poverty_composition_list_Total = []\n",
    "for poverty in [\"Poverty\",\"Non-Poverty\"]:\n",
    "    poverty_composition_list_Total.append(isrm_multiyear_ejscreen[poverty].sum()/isrm_multiyear_ejscreen[\"Population\"].sum()*100)\n",
    "isrm_multiyear_ejscreen_J40 = isrm_multiyear_ejscreen[isrm_multiyear_ejscreen[\"J40_v1_land\"]==\"T\"]\n",
    "isrm_multiyear_ejscreen_Outside = isrm_multiyear_ejscreen[isrm_multiyear_ejscreen[\"J40_v1_land\"]==\"F\"]\n",
    "    \n",
    "poverty_composition_list_J40 = []\n",
    "for poverty in [\"Poverty\",\"Non-Poverty\"]:\n",
    "    poverty_composition_list_J40.append(isrm_multiyear_ejscreen_J40[poverty].sum()/isrm_multiyear_ejscreen_J40[\"Population\"].sum()*100)\n",
    "\n",
    "    poverty_composition_list_Outside = []\n",
    "for poverty in [\"Poverty\",\"Non-Poverty\"]:\n",
    "    poverty_composition_list_Outside.append(isrm_multiyear_ejscreen_Outside[poverty].sum()/isrm_multiyear_ejscreen_Outside[\"Population\"].sum()*100)\n",
    "\n",
    "\n",
    "poverty_ethnic_composition_j40 = pd.DataFrame([poverty_composition_list_Total,poverty_composition_list_J40,poverty_composition_list_Outside],index=['Overall (whole US)',\n",
    "                               'Justice40 communities',\n",
    "                               'Other communities'],columns = [\"Low-income population\",\"Other population\"])#.reset_index()#.rename(columns = {\"index\":\"poverty\"})"
   ]
  },
  {
   "cell_type": "code",
   "execution_count": 70,
   "metadata": {},
   "outputs": [],
   "source": [
    "J40_composition_list_Total = [isrm_multiyear_ejscreen_J40.Population.sum()/isrm_multiyear_ejscreen.Population.sum()*100,\n",
    "                             isrm_multiyear_ejscreen_Outside.Population.sum()/isrm_multiyear_ejscreen.Population.sum()*100]\n",
    "J40_composition_list_Poverty = [isrm_multiyear_ejscreen_J40.Poverty.sum()/isrm_multiyear_ejscreen.Poverty.sum()*100,\n",
    "                             isrm_multiyear_ejscreen_Outside.Poverty.sum()/isrm_multiyear_ejscreen.Poverty.sum()*100]\n",
    "J40_composition_list_NP = [isrm_multiyear_ejscreen_J40[\"Non-Poverty\"].sum()/isrm_multiyear_ejscreen[\"Non-Poverty\"].sum()*100,\n",
    "                             isrm_multiyear_ejscreen_Outside[\"Non-Poverty\"].sum()/isrm_multiyear_ejscreen[\"Non-Poverty\"].sum()*100]\n",
    "\n",
    "J40_poverty_composition = pd.DataFrame([J40_composition_list_Total,J40_composition_list_Poverty,J40_composition_list_NP],index=['Overall (whole US)',\n",
    "                               'Low-income population',\n",
    "                               'Other population'],columns = [\"Justice40 communities\",\"Other communities\"])#.reset_index()#.rename(columns = {\"index\":\"poverty\"})\n"
   ]
  },
  {
   "cell_type": "code",
   "execution_count": 72,
   "metadata": {},
   "outputs": [],
   "source": [
    "J40_composition_list_White = [isrm_multiyear_ejscreen_J40.White.sum()/isrm_multiyear_ejscreen.White.sum()*100,\n",
    "                             isrm_multiyear_ejscreen_Outside.White.sum()/isrm_multiyear_ejscreen.White.sum()*100]\n",
    "J40_composition_list_Hispanic = [isrm_multiyear_ejscreen_J40[\"Hispanic\"].sum()/isrm_multiyear_ejscreen[\"Hispanic\"].sum()*100,\n",
    "                             isrm_multiyear_ejscreen_Outside[\"Hispanic\"].sum()/isrm_multiyear_ejscreen[\"Hispanic\"].sum()*100]\n",
    "J40_composition_list_Black = [isrm_multiyear_ejscreen_J40[\"Black\"].sum()/isrm_multiyear_ejscreen[\"Black\"].sum()*100,\n",
    "                             isrm_multiyear_ejscreen_Outside[\"Black\"].sum()/isrm_multiyear_ejscreen[\"Black\"].sum()*100]\n",
    "\n",
    "J40_composition_list_Asian = [isrm_multiyear_ejscreen_J40[\"Asian_Pacific\"].sum()/isrm_multiyear_ejscreen[\"Asian_Pacific\"].sum()*100,\n",
    "                             isrm_multiyear_ejscreen_Outside[\"Asian_Pacific\"].sum()/isrm_multiyear_ejscreen[\"Asian_Pacific\"].sum()*100]\n",
    "\n",
    "J40_composition_list_Native = [isrm_multiyear_ejscreen_J40[\"Native\"].sum()/isrm_multiyear_ejscreen[\"Native\"].sum()*100,\n",
    "                             isrm_multiyear_ejscreen_Outside[\"Native\"].sum()/isrm_multiyear_ejscreen[\"Native\"].sum()*100]\n",
    "\n",
    "J40_composition_list_Other = [isrm_multiyear_ejscreen_J40[\"Other_Mixed\"].sum()/isrm_multiyear_ejscreen[\"Other_Mixed\"].sum()*100,\n",
    "                             isrm_multiyear_ejscreen_Outside[\"Other_Mixed\"].sum()/isrm_multiyear_ejscreen[\"Other_Mixed\"].sum()*100]\n",
    "\n",
    "J40_composition_list_POC = [isrm_multiyear_ejscreen_J40[\"POC\"].sum()/isrm_multiyear_ejscreen[\"POC\"].sum()*100,\n",
    "                             isrm_multiyear_ejscreen_Outside[\"POC\"].sum()/isrm_multiyear_ejscreen[\"POC\"].sum()*100]\n",
    "\n",
    "J40_race_composition = pd.DataFrame([J40_composition_list_Total,J40_composition_list_White,J40_composition_list_POC,\n",
    "                                    J40_composition_list_Hispanic,J40_composition_list_Black,J40_composition_list_Asian,\n",
    "                                    J40_composition_list_Native,J40_composition_list_Other],index=['Overall (whole US)',\n",
    "                               'White','POC','Hispanic','Black','Asian','Native','Other/Mixed'],columns = [\"Justice40 communities\",\"Other communities\"])#.reset_index()#.rename(columns = {\"index\":\"poverty\"})\n"
   ]
  },
  {
   "cell_type": "code",
   "execution_count": 73,
   "metadata": {},
   "outputs": [
    {
     "data": {
      "image/png": "[encoded data removed]",
      "text/plain": [
       "<Figure size 3300x2400 with 4 Axes>"
      ]
     },
     "metadata": {
      "needs_background": "light"
     },
     "output_type": "display_data"
    }
   ],
   "source": [
    "fig,ax = plt.subplots(ncols = 2, nrows = 2, figsize = (11,8),dpi = 300)\n",
    "\n",
    "race_ethnic_composition_j40[[\"White\",\"Hispanic\",\"Black\",\"Asian\",\"Native\",\"Other/Mixed\"]].plot(kind='barh', stacked=True, color=['brown','forestgreen', 'orange','deepskyblue','hotpink','gold'],ax = ax[0,0])\n",
    "ax[0,0].set_xlabel('Race-ethnicity composition for total population (%)')\n",
    "ax[0,0].legend(loc='upper center', bbox_to_anchor=(0.5, -0.15),\n",
    "          fancybox=True, shadow=False, ncol=3,prop = {\"size\":9})\n",
    "ax[0,0].invert_yaxis()\n",
    "ax[0,0].text(-0.4, 1., \"A\", transform=ax[0,0].transAxes, \n",
    "            size=15, weight='bold')\n",
    "\n",
    "\n",
    "poverty_ethnic_composition_j40.plot(kind='barh', stacked=True, color=['royalblue', 'chocolate'],ax = ax[0,1])\n",
    "ax[0,1].set_xlabel('Income composition for total population (%)')\n",
    "ax[0,1].legend(loc='upper center', bbox_to_anchor=(0.5, -0.17),\n",
    "          fancybox=True, shadow=False, ncol=3,prop = {\"size\":9})\n",
    "ax[0,1].invert_yaxis()\n",
    "ax[0,1].text(-0.4, 1., \"B\", transform=ax[0,1].transAxes, \n",
    "            size=15, weight='bold')\n",
    "\n",
    "\n",
    "J40_race_composition.plot(kind='barh', stacked=True, color=['limegreen', 'purple'],ax = ax[1,0])\n",
    "ax[1,0].set_xlabel('Percentage population in Justice40 location (%)')\n",
    "ax[1,0].legend(loc='upper center', bbox_to_anchor=(0.5, -0.17),\n",
    "          fancybox=True, shadow=False, ncol=3,prop = {\"size\":9})\n",
    "ax[1,0].invert_yaxis()\n",
    "ax[1,0].text(-0.4, 1., \"C\", transform=ax[1,0].transAxes, \n",
    "            size=15, weight='bold')\n",
    "\n",
    "J40_poverty_composition.plot(kind='barh', stacked=True, color=['limegreen', 'purple'],ax = ax[1,1])\n",
    "ax[1,1].set_xlabel('Percentage population in Justice40 location (%)')\n",
    "ax[1,1].legend(loc='upper center', bbox_to_anchor=(0.5, -0.17),\n",
    "        fancybox=True, shadow=False, ncol=3,prop = {\"size\":9})\n",
    "ax[1,1].invert_yaxis()\n",
    "ax[1,1].text(-0.4, 1., \"D\", transform=ax[1,1].transAxes, \n",
    "            size=15, weight='bold')\n",
    "\n",
    "plt.tight_layout(h_pad = 2)\n",
    "plt.show()"
   ]
  },
  {
   "cell_type": "markdown",
   "metadata": {},
   "source": [
    "# Calculate concentration changes based on emission reductions by sector"
   ]
  },
  {
   "cell_type": "markdown",
   "metadata": {},
   "source": [
    "## Import 2014 nei emission data"
   ]
  },
  {
   "cell_type": "code",
   "execution_count": 74,
   "metadata": {},
   "outputs": [],
   "source": [
    "nei_isrm_summary_state_new=pd.read_csv(\"nei_isrm_summary_state_new_scc.csv\")"
   ]
  },
  {
   "cell_type": "code",
   "execution_count": 75,
   "metadata": {},
   "outputs": [],
   "source": [
    "cmv_nei_isrm = gpd.read_file(\"2014_emissions/cmv.shp\")"
   ]
  },
  {
   "cell_type": "code",
   "execution_count": 76,
   "metadata": {},
   "outputs": [],
   "source": [
    "nei_isrm_summary_state_new = gpd.GeoDataFrame(nei_isrm_summary_state_new, geometry = [Point(x, y) for x, y in zip(nei_isrm_summary_state_new.x,nei_isrm_summary_state_new.y)], crs=cmv_nei_isrm.crs).drop(['x', 'y'], axis=1)"
   ]
  },
  {
   "cell_type": "code",
   "execution_count": 77,
   "metadata": {},
   "outputs": [],
   "source": [
    "nei_isrm_summary_state_new.rename(columns={'PM25': 'PM2_5'}, inplace=True)"
   ]
  },
  {
   "cell_type": "code",
   "execution_count": 78,
   "metadata": {},
   "outputs": [],
   "source": [
    "def set_height(row):\n",
    "    if row[\"Height\"] <= 57:\n",
    "        return \"ground\"\n",
    "    elif row[\"Height\"] <= 379:\n",
    "        return \"low\"\n",
    "    else:\n",
    "        return \"high\""
   ]
  },
  {
   "cell_type": "code",
   "execution_count": 79,
   "metadata": {},
   "outputs": [],
   "source": [
    "nei_isrm_summary_state_new = nei_isrm_summary_state_new.assign(height_type=nei_isrm_summary_state_new.apply(set_height, axis=1))"
   ]
  },
  {
   "cell_type": "markdown",
   "metadata": {},
   "source": [
    "## Calculate concentration changes by sector only"
   ]
  },
  {
   "cell_type": "code",
   "execution_count": 82,
   "metadata": {},
   "outputs": [],
   "source": [
    "sector_list = np.array(['Ag.', 'Coal Elec.', 'Const.', 'Cooking', 'Diesel HD Veh.',\n",
    "       'Gas LD Veh.', 'Industrial', 'Misc.', 'Non-coal Elec.', 'Offroad',\n",
    "       'Res. Gas', 'Res. Other', 'Res. Wood', 'Road Dst.'], dtype=object)\n"
   ]
  },
  {
   "cell_type": "code",
   "execution_count": 422,
   "metadata": {},
   "outputs": [],
   "source": [
    "for num in range(14):\n",
    "    for height in [\"ground\",\"low\"]:\n",
    "        vars()['sector_sum_'+str(num)+\"_\"+height] = nei_isrm_summary_state_new[(nei_isrm_summary_state_new[\"sector\"] ==sector_list[num])&(nei_isrm_summary_state_new[\"height_type\"] ==height)].reset_index(drop =True)"
   ]
  },
  {
   "cell_type": "code",
   "execution_count": 329,
   "metadata": {},
   "outputs": [],
   "source": [
    "def sector_conc_value_j40(margin_data,emis_sum,pollutant):\n",
    "    emis_sum_select = emis_sum[emis_sum[pollutant]>0].reset_index(drop = True)\n",
    "    emis_isrm = emis_sum_select.isrm.to_list()\n",
    "    emis_conc_total = emis_sum_select[pollutant].to_list()   \n",
    "    temp1 = margin_data[emis_isrm,:]\n",
    "    temp2 = temp1*(np.array([emis_conc_total]).T)\n",
    "    isrm_conc_sum = temp2.sum(axis = 0)\n",
    "    return(isrm_conc_sum) "
   ]
  },
  {
   "cell_type": "code",
   "execution_count": 424,
   "metadata": {},
   "outputs": [],
   "source": [
    "file = './PrimaryPM25L0.nc'\n",
    "PM_isrm = Dataset(file, mode='r')"
   ]
  },
  {
   "cell_type": "code",
   "execution_count": 425,
   "metadata": {},
   "outputs": [],
   "source": [
    "PM_isrm_data = ma.getdata(PM_isrm.variables[\"PrimaryPM25\"][0])"
   ]
  },
  {
   "cell_type": "code",
   "execution_count": 330,
   "metadata": {},
   "outputs": [],
   "source": [
    "for num in range(14):\n",
    "    height = \"ground\"\n",
    "    if vars()['sector_sum_'+str(num)+\"_\"+height].shape[0]>0:\n",
    "        vars()['sector_'+str(num)+\"_\"+height+\"_PM\"] = sector_conc_value_j40(PM_isrm_data,vars()['sector_sum_'+str(num)+\"_\"+height],\"PM2_5\")"
   ]
  },
  {
   "cell_type": "code",
   "execution_count": 427,
   "metadata": {},
   "outputs": [],
   "source": [
    "PM_isrm.close()"
   ]
  },
  {
   "cell_type": "code",
   "execution_count": 428,
   "metadata": {},
   "outputs": [
    {
     "data": {
      "text/plain": [
       "310"
      ]
     },
     "execution_count": 428,
     "metadata": {},
     "output_type": "execute_result"
    }
   ],
   "source": [
    "PM_isrm_data=0\n",
    "gc.collect()"
   ]
  },
  {
   "cell_type": "code",
   "execution_count": 429,
   "metadata": {},
   "outputs": [],
   "source": [
    "file = './PrimaryPM25L1.nc'\n",
    "PM_isrm = Dataset(file, mode='r')"
   ]
  },
  {
   "cell_type": "code",
   "execution_count": 430,
   "metadata": {},
   "outputs": [],
   "source": [
    "PM_isrm_data = ma.getdata(PM_isrm.variables[\"PrimaryPM25\"][0])"
   ]
  },
  {
   "cell_type": "code",
   "execution_count": 335,
   "metadata": {},
   "outputs": [],
   "source": [
    "for num in range(14):\n",
    "    height = \"low\"\n",
    "    if vars()['sector_sum_'+str(num)+\"_\"+height].shape[0]>0:\n",
    "        vars()['sector_'+str(num)+\"_\"+height+\"_PM\"] = sector_conc_value_j40(PM_isrm_data,vars()['sector_sum_'+str(num)+\"_\"+height],\"PM2_5\")"
   ]
  },
  {
   "cell_type": "code",
   "execution_count": 432,
   "metadata": {},
   "outputs": [],
   "source": [
    "PM_isrm.close()"
   ]
  },
  {
   "cell_type": "code",
   "execution_count": 433,
   "metadata": {},
   "outputs": [
    {
     "data": {
      "text/plain": [
       "111"
      ]
     },
     "execution_count": 433,
     "metadata": {},
     "output_type": "execute_result"
    }
   ],
   "source": [
    "PM_isrm_data=0\n",
    "gc.collect()"
   ]
  },
  {
   "cell_type": "code",
   "execution_count": 434,
   "metadata": {},
   "outputs": [],
   "source": [
    "file = './pNO3L0.nc'\n",
    "NOx_isrm = Dataset(file, mode='r')"
   ]
  },
  {
   "cell_type": "code",
   "execution_count": 435,
   "metadata": {},
   "outputs": [],
   "source": [
    "NOx_isrm_data = ma.getdata(NOx_isrm.variables[\"pNO3\"][0])"
   ]
  },
  {
   "cell_type": "code",
   "execution_count": 340,
   "metadata": {},
   "outputs": [],
   "source": [
    "for num in range(14):\n",
    "    height = \"ground\"\n",
    "    if vars()['sector_sum_'+str(num)+\"_\"+height].shape[0]>0:\n",
    "        if vars()['sector_sum_'+str(num)+\"_\"+height][\"NOx\"].sum()>0:\n",
    "            vars()['sector_'+str(num)+\"_\"+height+\"_NOx\"] = sector_conc_value_j40(NOx_isrm_data,vars()['sector_sum_'+str(num)+\"_\"+height],\"NOx\")"
   ]
  },
  {
   "cell_type": "code",
   "execution_count": 437,
   "metadata": {},
   "outputs": [],
   "source": [
    "NOx_isrm.close()"
   ]
  },
  {
   "cell_type": "code",
   "execution_count": 438,
   "metadata": {},
   "outputs": [
    {
     "data": {
      "text/plain": [
       "51"
      ]
     },
     "execution_count": 438,
     "metadata": {},
     "output_type": "execute_result"
    }
   ],
   "source": [
    "NOx_isrm_data=0\n",
    "gc.collect()"
   ]
  },
  {
   "cell_type": "code",
   "execution_count": 439,
   "metadata": {},
   "outputs": [],
   "source": [
    "file = './pNO3L1.nc'\n",
    "NOx_isrm = Dataset(file, mode='r')"
   ]
  },
  {
   "cell_type": "code",
   "execution_count": 440,
   "metadata": {},
   "outputs": [],
   "source": [
    "NOx_isrm_data = ma.getdata(NOx_isrm.variables[\"pNO3\"][0])"
   ]
  },
  {
   "cell_type": "code",
   "execution_count": 345,
   "metadata": {},
   "outputs": [],
   "source": [
    "for num in range(14):\n",
    "    height = \"low\"\n",
    "    if vars()['sector_sum_'+str(num)+\"_\"+height].shape[0]>0:\n",
    "        if vars()['sector_sum_'+str(num)+\"_\"+height][\"NOx\"].sum()>0:\n",
    "            vars()['sector_'+str(num)+\"_\"+height+\"_NOx\"] = sector_conc_value_j40(NOx_isrm_data,vars()['sector_sum_'+str(num)+\"_\"+height],\"NOx\")"
   ]
  },
  {
   "cell_type": "code",
   "execution_count": 442,
   "metadata": {},
   "outputs": [],
   "source": [
    "NOx_isrm.close()"
   ]
  },
  {
   "cell_type": "code",
   "execution_count": 443,
   "metadata": {},
   "outputs": [
    {
     "data": {
      "text/plain": [
       "51"
      ]
     },
     "execution_count": 443,
     "metadata": {},
     "output_type": "execute_result"
    }
   ],
   "source": [
    "NOx_isrm_data=0\n",
    "gc.collect()"
   ]
  },
  {
   "cell_type": "code",
   "execution_count": 444,
   "metadata": {},
   "outputs": [],
   "source": [
    "file = './pSO4L0.nc'\n",
    "SOx_isrm = Dataset(file, mode='r')"
   ]
  },
  {
   "cell_type": "code",
   "execution_count": 445,
   "metadata": {},
   "outputs": [],
   "source": [
    "SOx_isrm_data = ma.getdata(SOx_isrm.variables[\"pSO4\"][0])"
   ]
  },
  {
   "cell_type": "code",
   "execution_count": 350,
   "metadata": {},
   "outputs": [],
   "source": [
    "for num in range(14):\n",
    "    height = \"ground\"\n",
    "    if vars()['sector_sum_'+str(num)+\"_\"+height].shape[0]>0:\n",
    "        if vars()['sector_sum_'+str(num)+\"_\"+height][\"SOx\"].sum()>0:\n",
    "            vars()['sector_'+str(num)+\"_\"+height+\"_SOx\"] = sector_conc_value_j40(SOx_isrm_data,vars()['sector_sum_'+str(num)+\"_\"+height],\"SOx\")"
   ]
  },
  {
   "cell_type": "code",
   "execution_count": 447,
   "metadata": {},
   "outputs": [],
   "source": [
    "SOx_isrm.close()"
   ]
  },
  {
   "cell_type": "code",
   "execution_count": 448,
   "metadata": {},
   "outputs": [
    {
     "data": {
      "text/plain": [
       "51"
      ]
     },
     "execution_count": 448,
     "metadata": {},
     "output_type": "execute_result"
    }
   ],
   "source": [
    "SOx_isrm_data=0\n",
    "gc.collect()"
   ]
  },
  {
   "cell_type": "code",
   "execution_count": 449,
   "metadata": {},
   "outputs": [],
   "source": [
    "file = './pSO4L1.nc'\n",
    "SOx_isrm = Dataset(file, mode='r')"
   ]
  },
  {
   "cell_type": "code",
   "execution_count": 450,
   "metadata": {},
   "outputs": [],
   "source": [
    "SOx_isrm_data = ma.getdata(SOx_isrm.variables[\"pSO4\"][0])"
   ]
  },
  {
   "cell_type": "code",
   "execution_count": 355,
   "metadata": {},
   "outputs": [],
   "source": [
    "for num in range(14):\n",
    "    height = \"low\"\n",
    "    if vars()['sector_sum_'+str(num)+\"_\"+height].shape[0]>0:\n",
    "        if vars()['sector_sum_'+str(num)+\"_\"+height][\"SOx\"].sum()>0:\n",
    "            vars()['sector_'+str(num)+\"_\"+height+\"_SOx\"] = sector_conc_value_j40(SOx_isrm_data,vars()['sector_sum_'+str(num)+\"_\"+height],\"SOx\")"
   ]
  },
  {
   "cell_type": "code",
   "execution_count": 452,
   "metadata": {},
   "outputs": [],
   "source": [
    "SOx_isrm.close()"
   ]
  },
  {
   "cell_type": "code",
   "execution_count": 453,
   "metadata": {},
   "outputs": [
    {
     "data": {
      "text/plain": [
       "51"
      ]
     },
     "execution_count": 453,
     "metadata": {},
     "output_type": "execute_result"
    }
   ],
   "source": [
    "SOx_isrm_data=0\n",
    "gc.collect()"
   ]
  },
  {
   "cell_type": "code",
   "execution_count": 454,
   "metadata": {},
   "outputs": [],
   "source": [
    "file = './pNH4L0.nc'\n",
    "NH3_isrm = Dataset(file, mode='r')"
   ]
  },
  {
   "cell_type": "code",
   "execution_count": 455,
   "metadata": {},
   "outputs": [],
   "source": [
    "NH3_isrm_data = ma.getdata(NH3_isrm.variables[\"pNH4\"][0])"
   ]
  },
  {
   "cell_type": "code",
   "execution_count": 360,
   "metadata": {},
   "outputs": [],
   "source": [
    "for num in range(14):\n",
    "    height = \"ground\"\n",
    "    if vars()['sector_sum_'+str(num)+\"_\"+height].shape[0]>0:\n",
    "        if vars()['sector_sum_'+str(num)+\"_\"+height][\"NH3\"].sum()>0:\n",
    "            vars()['sector_'+str(num)+\"_\"+height+\"_NH3\"] = sector_conc_value_j40(NH3_isrm_data,vars()['sector_sum_'+str(num)+\"_\"+height],\"NH3\")"
   ]
  },
  {
   "cell_type": "code",
   "execution_count": 457,
   "metadata": {},
   "outputs": [],
   "source": [
    "NH3_isrm.close()"
   ]
  },
  {
   "cell_type": "code",
   "execution_count": 458,
   "metadata": {},
   "outputs": [
    {
     "data": {
      "text/plain": [
       "51"
      ]
     },
     "execution_count": 458,
     "metadata": {},
     "output_type": "execute_result"
    }
   ],
   "source": [
    "NH3_isrm_data=0\n",
    "gc.collect()"
   ]
  },
  {
   "cell_type": "code",
   "execution_count": 459,
   "metadata": {},
   "outputs": [],
   "source": [
    "file = './pNH4L1.nc'\n",
    "NH3_isrm = Dataset(file, mode='r')"
   ]
  },
  {
   "cell_type": "code",
   "execution_count": 460,
   "metadata": {},
   "outputs": [],
   "source": [
    "NH3_isrm_data = ma.getdata(NH3_isrm.variables[\"pNH4\"][0])"
   ]
  },
  {
   "cell_type": "code",
   "execution_count": 365,
   "metadata": {},
   "outputs": [],
   "source": [
    "for num in range(14):\n",
    "    height = \"low\"\n",
    "    if vars()['sector_sum_'+str(num)+\"_\"+height].shape[0]>0:\n",
    "        if vars()['sector_sum_'+str(num)+\"_\"+height][\"NH3\"].sum()>0:\n",
    "            vars()['sector_'+str(num)+\"_\"+height+\"_NH3\"] = sector_conc_value_j40(NH3_isrm_data,vars()['sector_sum_'+str(num)+\"_\"+height],\"NH3\")"
   ]
  },
  {
   "cell_type": "code",
   "execution_count": 462,
   "metadata": {},
   "outputs": [],
   "source": [
    "NH3_isrm.close()"
   ]
  },
  {
   "cell_type": "code",
   "execution_count": 463,
   "metadata": {},
   "outputs": [
    {
     "data": {
      "text/plain": [
       "51"
      ]
     },
     "execution_count": 463,
     "metadata": {},
     "output_type": "execute_result"
    }
   ],
   "source": [
    "NH3_isrm_data=0\n",
    "gc.collect()"
   ]
  },
  {
   "cell_type": "code",
   "execution_count": 464,
   "metadata": {},
   "outputs": [],
   "source": [
    "file = './SOAL0.nc'\n",
    "VOC_isrm = Dataset(file, mode='r')"
   ]
  },
  {
   "cell_type": "code",
   "execution_count": 465,
   "metadata": {},
   "outputs": [],
   "source": [
    "VOC_isrm_data = ma.getdata(VOC_isrm.variables[\"SOA\"][0])"
   ]
  },
  {
   "cell_type": "code",
   "execution_count": 370,
   "metadata": {},
   "outputs": [],
   "source": [
    "for num in range(14):\n",
    "    height = \"ground\"\n",
    "    if vars()['sector_sum_'+str(num)+\"_\"+height].shape[0]>0:\n",
    "        if vars()['sector_sum_'+str(num)+\"_\"+height][\"VOC\"].sum()>0:\n",
    "            vars()['sector_'+str(num)+\"_\"+height+\"_VOC\"] = sector_conc_value_j40(VOC_isrm_data,vars()['sector_sum_'+str(num)+\"_\"+height],\"VOC\")"
   ]
  },
  {
   "cell_type": "code",
   "execution_count": 467,
   "metadata": {},
   "outputs": [],
   "source": [
    "VOC_isrm.close()"
   ]
  },
  {
   "cell_type": "code",
   "execution_count": 468,
   "metadata": {},
   "outputs": [
    {
     "data": {
      "text/plain": [
       "51"
      ]
     },
     "execution_count": 468,
     "metadata": {},
     "output_type": "execute_result"
    }
   ],
   "source": [
    "VOC_isrm_data=0\n",
    "gc.collect()"
   ]
  },
  {
   "cell_type": "code",
   "execution_count": 469,
   "metadata": {},
   "outputs": [],
   "source": [
    "file = './SOAL1.nc'\n",
    "VOC_isrm = Dataset(file, mode='r')"
   ]
  },
  {
   "cell_type": "code",
   "execution_count": 470,
   "metadata": {},
   "outputs": [],
   "source": [
    "VOC_isrm_data = ma.getdata(VOC_isrm.variables[\"SOA\"][0])"
   ]
  },
  {
   "cell_type": "code",
   "execution_count": 375,
   "metadata": {},
   "outputs": [],
   "source": [
    "for num in range(14):\n",
    "    height = \"low\"\n",
    "    if vars()['sector_sum_'+str(num)+\"_\"+height].shape[0]>0:\n",
    "        if vars()['sector_sum_'+str(num)+\"_\"+height][\"VOC\"].sum()>0:\n",
    "            vars()['sector_'+str(num)+\"_\"+height+\"_VOC\"] = sector_conc_value_j40(VOC_isrm_data,vars()['sector_sum_'+str(num)+\"_\"+height],\"VOC\")"
   ]
  },
  {
   "cell_type": "code",
   "execution_count": 472,
   "metadata": {},
   "outputs": [],
   "source": [
    "VOC_isrm.close()"
   ]
  },
  {
   "cell_type": "code",
   "execution_count": 473,
   "metadata": {},
   "outputs": [
    {
     "data": {
      "text/plain": [
       "51"
      ]
     },
     "execution_count": 473,
     "metadata": {},
     "output_type": "execute_result"
    }
   ],
   "source": [
    "VOC_isrm_data=0\n",
    "gc.collect()"
   ]
  },
  {
   "cell_type": "code",
   "execution_count": 107,
   "metadata": {},
   "outputs": [],
   "source": [
    "pollutants = [\"VOC\",\"NOx\",\"NH3\",\"SOx\",\"PM2_5\"]"
   ]
  },
  {
   "cell_type": "code",
   "execution_count": 475,
   "metadata": {},
   "outputs": [],
   "source": [
    "for sector_num in range(14):\n",
    "    vars()['sector_'+str(sector_num)] = pd.DataFrame({\"isrm\":list(range(52411))})\n",
    "    for pollutant in pollutants:\n",
    "        if pollutant == \"PM2_5\":\n",
    "            vars()['sector_'+str(sector_num)][pollutant] = 0\n",
    "            for height in [\"ground\",\"low\"]:\n",
    "                try:\n",
    "                    vars()['sector_'+str(sector_num)+\"_\"+height+\"_PM\"]\n",
    "                except:\n",
    "                    vars()['sector_'+str(sector_num)][pollutant] = vars()['sector_'+str(sector_num)][pollutant]\n",
    "                else:\n",
    "                    vars()['sector_'+str(sector_num)][pollutant] = vars()['sector_'+str(sector_num)][pollutant] + vars()['sector_'+str(sector_num)+\"_\"+height+\"_PM\"]\n",
    "        else:\n",
    "            vars()['sector_'+str(sector_num)][pollutant] = 0\n",
    "            for height in [\"ground\",\"low\"]:\n",
    "                try:\n",
    "                    vars()['sector_'+str(sector_num)+\"_\"+height+\"_\"+pollutant]\n",
    "                except:\n",
    "                    vars()['sector_'+str(sector_num)][pollutant] = vars()['sector_'+str(sector_num)][pollutant]\n",
    "                else:\n",
    "                    vars()['sector_'+str(sector_num)][pollutant] = vars()['sector_'+str(sector_num)][pollutant] + vars()['sector_'+str(sector_num)+\"_\"+height+\"_\"+pollutant]"
   ]
  },
  {
   "cell_type": "code",
   "execution_count": 476,
   "metadata": {},
   "outputs": [],
   "source": [
    "for sector_num in range(14):\n",
    "    vars()['sector_'+str(sector_num)].to_csv('sector_'+str(sector_num)+\".csv\")"
   ]
  },
  {
   "cell_type": "code",
   "execution_count": 507,
   "metadata": {},
   "outputs": [],
   "source": [
    "sector_total = sector_0+sector_1+sector_2+sector_3+sector_4+sector_5+sector_6+sector_7+sector_8+sector_9+sector_10+sector_11+sector_12+sector_13"
   ]
  },
  {
   "cell_type": "code",
   "execution_count": 511,
   "metadata": {},
   "outputs": [],
   "source": [
    "sector_total.isrm = range(52411)"
   ]
  },
  {
   "cell_type": "code",
   "execution_count": 510,
   "metadata": {},
   "outputs": [],
   "source": [
    "sector_total[\"Total\"] = sector_total[[\"VOC\",\"NOx\",\"NH3\",\"SOx\",\"PM2_5\"]].sum(axis = 1)"
   ]
  },
  {
   "cell_type": "code",
   "execution_count": 513,
   "metadata": {},
   "outputs": [],
   "source": [
    "sector_total.to_csv(\"Total_conc_by_pollutant.csv\")"
   ]
  },
  {
   "cell_type": "code",
   "execution_count": null,
   "metadata": {},
   "outputs": [],
   "source": []
  },
  {
   "cell_type": "markdown",
   "metadata": {},
   "source": [
    "## Calculate concentration changes by sector & CEJST"
   ]
  },
  {
   "cell_type": "code",
   "execution_count": 111,
   "metadata": {},
   "outputs": [],
   "source": [
    "nei_isrm_summary_state_new[\"J40_v1\"] = np.where(\n",
    "    nei_isrm_summary_state_new[\"isrm\"].isin(isrm_pop_race_ethnicity_J40_v1_land.isrm.to_list()),\"T\",\"F\")"
   ]
  },
  {
   "cell_type": "code",
   "execution_count": 112,
   "metadata": {},
   "outputs": [],
   "source": [
    "sector_sum_v1 = nei_isrm_summary_state_new.groupby([\"sector\",\"J40_v1\"]).agg({\"VOC\":\"sum\",\"NOx\":\"sum\",\"NH3\":\"sum\",\"SOx\":\"sum\",\"PM2_5\":\"sum\"}).reset_index()"
   ]
  },
  {
   "cell_type": "code",
   "execution_count": 675,
   "metadata": {},
   "outputs": [],
   "source": [
    "for num in range(14):\n",
    "    for height in [\"ground\",\"low\"]:\n",
    "        for J40 in[\"T\",\"F\"]:\n",
    "            vars()['sector_sum_v1_'+str(num)+\"_\"+height+\"_\"+J40] = nei_isrm_summary_state_new[(nei_isrm_summary_state_new[\"sector\"] ==sector_list[num])&(nei_isrm_summary_state_new[\"height_type\"] ==height)&(nei_isrm_summary_state_new[\"J40_v1\"]==J40)].reset_index(drop =True)"
   ]
  },
  {
   "cell_type": "code",
   "execution_count": 670,
   "metadata": {},
   "outputs": [],
   "source": [
    "file = './PrimaryPM25L0.nc'\n",
    "PM_isrm = Dataset(file, mode='r')"
   ]
  },
  {
   "cell_type": "code",
   "execution_count": 671,
   "metadata": {},
   "outputs": [],
   "source": [
    "PM_isrm_data = ma.getdata(PM_isrm.variables[\"PrimaryPM25\"][0])"
   ]
  },
  {
   "cell_type": "code",
   "execution_count": 676,
   "metadata": {},
   "outputs": [],
   "source": [
    "for num in range(14):\n",
    "    height = \"ground\"\n",
    "    for J40 in[\"T\",\"F\"]:\n",
    "        if vars()['sector_sum_v1_'+str(num)+\"_\"+height+\"_\"+J40].shape[0]>0:\n",
    "            vars()['sector_v1_'+str(num)+\"_\"+height+\"_\"+J40+\"_PM\"] = sector_conc_value_j40(PM_isrm_data,vars()['sector_sum_v1_'+str(num)+\"_\"+height+\"_\"+J40],\"PM2_5\")"
   ]
  },
  {
   "cell_type": "code",
   "execution_count": 677,
   "metadata": {},
   "outputs": [],
   "source": [
    "PM_isrm.close()"
   ]
  },
  {
   "cell_type": "code",
   "execution_count": 678,
   "metadata": {},
   "outputs": [
    {
     "data": {
      "text/plain": [
       "40"
      ]
     },
     "execution_count": 678,
     "metadata": {},
     "output_type": "execute_result"
    }
   ],
   "source": [
    "PM_isrm_data=0\n",
    "gc.collect()"
   ]
  },
  {
   "cell_type": "code",
   "execution_count": 679,
   "metadata": {},
   "outputs": [],
   "source": [
    "file = './PrimaryPM25L1.nc'\n",
    "PM_isrm = Dataset(file, mode='r')"
   ]
  },
  {
   "cell_type": "code",
   "execution_count": 680,
   "metadata": {},
   "outputs": [],
   "source": [
    "PM_isrm_data = ma.getdata(PM_isrm.variables[\"PrimaryPM25\"][0])"
   ]
  },
  {
   "cell_type": "code",
   "execution_count": 681,
   "metadata": {},
   "outputs": [],
   "source": [
    "for num in range(14):\n",
    "    height = \"low\"\n",
    "    for J40 in[\"T\",\"F\"]:\n",
    "        if vars()['sector_sum_v1_'+str(num)+\"_\"+height+\"_\"+J40].shape[0]>0:\n",
    "            vars()['sector_v1_'+str(num)+\"_\"+height+\"_\"+J40+\"_PM\"] = sector_conc_value_j40(PM_isrm_data,vars()['sector_sum_v1_'+str(num)+\"_\"+height+\"_\"+J40],\"PM2_5\")"
   ]
  },
  {
   "cell_type": "code",
   "execution_count": 682,
   "metadata": {},
   "outputs": [],
   "source": [
    "PM_isrm.close()"
   ]
  },
  {
   "cell_type": "code",
   "execution_count": 683,
   "metadata": {},
   "outputs": [
    {
     "data": {
      "text/plain": [
       "51"
      ]
     },
     "execution_count": 683,
     "metadata": {},
     "output_type": "execute_result"
    }
   ],
   "source": [
    "PM_isrm_data=0\n",
    "gc.collect()"
   ]
  },
  {
   "cell_type": "code",
   "execution_count": 684,
   "metadata": {},
   "outputs": [],
   "source": [
    "file = './pNO3L0.nc'\n",
    "NOx_isrm = Dataset(file, mode='r')"
   ]
  },
  {
   "cell_type": "code",
   "execution_count": 685,
   "metadata": {},
   "outputs": [],
   "source": [
    "NOx_isrm_data = ma.getdata(NOx_isrm.variables[\"pNO3\"][0])"
   ]
  },
  {
   "cell_type": "code",
   "execution_count": 686,
   "metadata": {},
   "outputs": [],
   "source": [
    "for num in range(14):\n",
    "    height = \"ground\"\n",
    "    for J40 in[\"T\",\"F\"]:\n",
    "        if vars()['sector_sum_v1_'+str(num)+\"_\"+height+\"_\"+J40].shape[0]>0:\n",
    "            if vars()['sector_sum_v1_'+str(num)+\"_\"+height+\"_\"+J40][\"NOx\"].sum()>0:\n",
    "                vars()['sector_v1_'+str(num)+\"_\"+height+\"_\"+J40+\"_NOx\"] = sector_conc_value_j40(NOx_isrm_data,vars()['sector_sum_v1_'+str(num)+\"_\"+height+\"_\"+J40],\"NOx\")"
   ]
  },
  {
   "cell_type": "code",
   "execution_count": 687,
   "metadata": {},
   "outputs": [],
   "source": [
    "NOx_isrm.close()"
   ]
  },
  {
   "cell_type": "code",
   "execution_count": 688,
   "metadata": {},
   "outputs": [
    {
     "data": {
      "text/plain": [
       "51"
      ]
     },
     "execution_count": 688,
     "metadata": {},
     "output_type": "execute_result"
    }
   ],
   "source": [
    "NOx_isrm_data=0\n",
    "gc.collect()"
   ]
  },
  {
   "cell_type": "code",
   "execution_count": 689,
   "metadata": {},
   "outputs": [],
   "source": [
    "file = './pNO3L1.nc'\n",
    "NOx_isrm = Dataset(file, mode='r')"
   ]
  },
  {
   "cell_type": "code",
   "execution_count": 690,
   "metadata": {},
   "outputs": [],
   "source": [
    "NOx_isrm_data = ma.getdata(NOx_isrm.variables[\"pNO3\"][0])"
   ]
  },
  {
   "cell_type": "code",
   "execution_count": 691,
   "metadata": {},
   "outputs": [],
   "source": [
    "for num in range(14):\n",
    "    height = \"low\"\n",
    "    for J40 in[\"T\",\"F\"]:\n",
    "        if vars()['sector_sum_v1_'+str(num)+\"_\"+height+\"_\"+J40].shape[0]>0:\n",
    "            if vars()['sector_sum_v1_'+str(num)+\"_\"+height+\"_\"+J40][\"NOx\"].sum()>0:\n",
    "                vars()['sector_v1_'+str(num)+\"_\"+height+\"_\"+J40+\"_NOx\"] = sector_conc_value_j40(NOx_isrm_data,vars()['sector_sum_v1_'+str(num)+\"_\"+height+\"_\"+J40],\"NOx\")"
   ]
  },
  {
   "cell_type": "code",
   "execution_count": 692,
   "metadata": {},
   "outputs": [],
   "source": [
    "NOx_isrm.close()"
   ]
  },
  {
   "cell_type": "code",
   "execution_count": 693,
   "metadata": {},
   "outputs": [
    {
     "data": {
      "text/plain": [
       "51"
      ]
     },
     "execution_count": 693,
     "metadata": {},
     "output_type": "execute_result"
    }
   ],
   "source": [
    "NOx_isrm_data=0\n",
    "gc.collect()"
   ]
  },
  {
   "cell_type": "code",
   "execution_count": 694,
   "metadata": {},
   "outputs": [],
   "source": [
    "file = './pSO4L0.nc'\n",
    "SOx_isrm = Dataset(file, mode='r')"
   ]
  },
  {
   "cell_type": "code",
   "execution_count": 695,
   "metadata": {},
   "outputs": [],
   "source": [
    "SOx_isrm_data = ma.getdata(SOx_isrm.variables[\"pSO4\"][0])"
   ]
  },
  {
   "cell_type": "code",
   "execution_count": 696,
   "metadata": {},
   "outputs": [],
   "source": [
    "for num in range(14):\n",
    "    height = \"ground\"\n",
    "    for J40 in[\"T\",\"F\"]:\n",
    "        if vars()['sector_sum_v1_'+str(num)+\"_\"+height+\"_\"+J40].shape[0]>0:\n",
    "            if vars()['sector_sum_v1_'+str(num)+\"_\"+height+\"_\"+J40][\"SOx\"].sum()>0:\n",
    "                vars()['sector_v1_'+str(num)+\"_\"+height+\"_\"+J40+\"_SOx\"] = sector_conc_value_j40(SOx_isrm_data,vars()['sector_sum_v1_'+str(num)+\"_\"+height+\"_\"+J40],\"SOx\")"
   ]
  },
  {
   "cell_type": "code",
   "execution_count": 697,
   "metadata": {},
   "outputs": [],
   "source": [
    "SOx_isrm.close()"
   ]
  },
  {
   "cell_type": "code",
   "execution_count": 698,
   "metadata": {},
   "outputs": [
    {
     "data": {
      "text/plain": [
       "51"
      ]
     },
     "execution_count": 698,
     "metadata": {},
     "output_type": "execute_result"
    }
   ],
   "source": [
    "SOx_isrm_data=0\n",
    "gc.collect()"
   ]
  },
  {
   "cell_type": "code",
   "execution_count": 699,
   "metadata": {},
   "outputs": [],
   "source": [
    "file = './pSO4L1.nc'\n",
    "SOx_isrm = Dataset(file, mode='r')"
   ]
  },
  {
   "cell_type": "code",
   "execution_count": 700,
   "metadata": {},
   "outputs": [],
   "source": [
    "SOx_isrm_data = ma.getdata(SOx_isrm.variables[\"pSO4\"][0])"
   ]
  },
  {
   "cell_type": "code",
   "execution_count": 701,
   "metadata": {},
   "outputs": [],
   "source": [
    "for num in range(14):\n",
    "    height = \"low\"\n",
    "    for J40 in[\"T\",\"F\"]:\n",
    "        if vars()['sector_sum_v1_'+str(num)+\"_\"+height+\"_\"+J40].shape[0]>0:\n",
    "            if vars()['sector_sum_v1_'+str(num)+\"_\"+height+\"_\"+J40][\"SOx\"].sum()>0:\n",
    "                vars()['sector_v1_'+str(num)+\"_\"+height+\"_\"+J40+\"_SOx\"] = sector_conc_value_j40(SOx_isrm_data,vars()['sector_sum_v1_'+str(num)+\"_\"+height+\"_\"+J40],\"SOx\")"
   ]
  },
  {
   "cell_type": "code",
   "execution_count": 702,
   "metadata": {},
   "outputs": [],
   "source": [
    "SOx_isrm.close()"
   ]
  },
  {
   "cell_type": "code",
   "execution_count": 703,
   "metadata": {},
   "outputs": [
    {
     "data": {
      "text/plain": [
       "51"
      ]
     },
     "execution_count": 703,
     "metadata": {},
     "output_type": "execute_result"
    }
   ],
   "source": [
    "SOx_isrm_data=0\n",
    "gc.collect()"
   ]
  },
  {
   "cell_type": "code",
   "execution_count": 704,
   "metadata": {},
   "outputs": [],
   "source": [
    "file = './pNH4L0.nc'\n",
    "NH3_isrm = Dataset(file, mode='r')"
   ]
  },
  {
   "cell_type": "code",
   "execution_count": 705,
   "metadata": {},
   "outputs": [],
   "source": [
    "NH3_isrm_data = ma.getdata(NH3_isrm.variables[\"pNH4\"][0])"
   ]
  },
  {
   "cell_type": "code",
   "execution_count": 706,
   "metadata": {},
   "outputs": [],
   "source": [
    "for num in range(14):\n",
    "    height = \"ground\"\n",
    "    for J40 in[\"T\",\"F\"]:\n",
    "        if vars()['sector_sum_v1_'+str(num)+\"_\"+height+\"_\"+J40].shape[0]>0:\n",
    "            if vars()['sector_sum_v1_'+str(num)+\"_\"+height+\"_\"+J40][\"NH3\"].sum()>0:\n",
    "                vars()['sector_v1_'+str(num)+\"_\"+height+\"_\"+J40+\"_NH3\"] = sector_conc_value_j40(NH3_isrm_data,vars()['sector_sum_v1_'+str(num)+\"_\"+height+\"_\"+J40],\"NH3\")"
   ]
  },
  {
   "cell_type": "code",
   "execution_count": 707,
   "metadata": {},
   "outputs": [],
   "source": [
    "NH3_isrm.close()"
   ]
  },
  {
   "cell_type": "code",
   "execution_count": 708,
   "metadata": {},
   "outputs": [
    {
     "data": {
      "text/plain": [
       "51"
      ]
     },
     "execution_count": 708,
     "metadata": {},
     "output_type": "execute_result"
    }
   ],
   "source": [
    "NH3_isrm_data=0\n",
    "gc.collect()"
   ]
  },
  {
   "cell_type": "code",
   "execution_count": 709,
   "metadata": {},
   "outputs": [],
   "source": [
    "file = './pNH4L1.nc'\n",
    "NH3_isrm = Dataset(file, mode='r')"
   ]
  },
  {
   "cell_type": "code",
   "execution_count": 710,
   "metadata": {},
   "outputs": [],
   "source": [
    "NH3_isrm_data = ma.getdata(NH3_isrm.variables[\"pNH4\"][0])"
   ]
  },
  {
   "cell_type": "code",
   "execution_count": 711,
   "metadata": {},
   "outputs": [],
   "source": [
    "for num in range(14):\n",
    "    height = \"low\"\n",
    "    for J40 in[\"T\",\"F\"]:\n",
    "        if vars()['sector_sum_v1_'+str(num)+\"_\"+height+\"_\"+J40].shape[0]>0:\n",
    "            if vars()['sector_sum_v1_'+str(num)+\"_\"+height+\"_\"+J40][\"NH3\"].sum()>0:\n",
    "                vars()['sector_v1_'+str(num)+\"_\"+height+\"_\"+J40+\"_NH3\"] = sector_conc_value_j40(NH3_isrm_data,vars()['sector_sum_v1_'+str(num)+\"_\"+height+\"_\"+J40],\"NH3\")"
   ]
  },
  {
   "cell_type": "code",
   "execution_count": 712,
   "metadata": {},
   "outputs": [],
   "source": [
    "NH3_isrm.close()"
   ]
  },
  {
   "cell_type": "code",
   "execution_count": 713,
   "metadata": {},
   "outputs": [
    {
     "data": {
      "text/plain": [
       "51"
      ]
     },
     "execution_count": 713,
     "metadata": {},
     "output_type": "execute_result"
    }
   ],
   "source": [
    "NH3_isrm_data=0\n",
    "gc.collect()"
   ]
  },
  {
   "cell_type": "code",
   "execution_count": 714,
   "metadata": {},
   "outputs": [],
   "source": [
    "file = './SOAL0.nc'\n",
    "VOC_isrm = Dataset(file, mode='r')"
   ]
  },
  {
   "cell_type": "code",
   "execution_count": 715,
   "metadata": {},
   "outputs": [],
   "source": [
    "VOC_isrm_data = ma.getdata(VOC_isrm.variables[\"SOA\"][0])"
   ]
  },
  {
   "cell_type": "code",
   "execution_count": 716,
   "metadata": {},
   "outputs": [],
   "source": [
    "for num in range(14):\n",
    "    height = \"ground\"\n",
    "    for J40 in[\"T\",\"F\"]:\n",
    "        if vars()['sector_sum_v1_'+str(num)+\"_\"+height+\"_\"+J40].shape[0]>0:\n",
    "            if vars()['sector_sum_v1_'+str(num)+\"_\"+height+\"_\"+J40][\"VOC\"].sum()>0:\n",
    "                vars()['sector_v1_'+str(num)+\"_\"+height+\"_\"+J40+\"_VOC\"] = sector_conc_value_j40(VOC_isrm_data,vars()['sector_sum_v1_'+str(num)+\"_\"+height+\"_\"+J40],\"VOC\")"
   ]
  },
  {
   "cell_type": "code",
   "execution_count": 717,
   "metadata": {},
   "outputs": [],
   "source": [
    "VOC_isrm.close()"
   ]
  },
  {
   "cell_type": "code",
   "execution_count": 718,
   "metadata": {},
   "outputs": [
    {
     "data": {
      "text/plain": [
       "51"
      ]
     },
     "execution_count": 718,
     "metadata": {},
     "output_type": "execute_result"
    }
   ],
   "source": [
    "VOC_isrm_data=0\n",
    "gc.collect()"
   ]
  },
  {
   "cell_type": "code",
   "execution_count": 719,
   "metadata": {},
   "outputs": [],
   "source": [
    "file = './SOAL1.nc'\n",
    "VOC_isrm = Dataset(file, mode='r')"
   ]
  },
  {
   "cell_type": "code",
   "execution_count": 720,
   "metadata": {},
   "outputs": [],
   "source": [
    "VOC_isrm_data = ma.getdata(VOC_isrm.variables[\"SOA\"][0])"
   ]
  },
  {
   "cell_type": "code",
   "execution_count": 721,
   "metadata": {},
   "outputs": [],
   "source": [
    "for num in range(14):\n",
    "    height = \"low\"\n",
    "    for J40 in[\"T\",\"F\"]:\n",
    "        if vars()['sector_sum_v1_'+str(num)+\"_\"+height+\"_\"+J40].shape[0]>0:\n",
    "            if vars()['sector_sum_v1_'+str(num)+\"_\"+height+\"_\"+J40][\"VOC\"].sum()>0:\n",
    "                vars()['sector_v1_'+str(num)+\"_\"+height+\"_\"+J40+\"_VOC\"] = sector_conc_value_j40(VOC_isrm_data,vars()['sector_sum_v1_'+str(num)+\"_\"+height+\"_\"+J40],\"VOC\")"
   ]
  },
  {
   "cell_type": "code",
   "execution_count": 722,
   "metadata": {},
   "outputs": [],
   "source": [
    "VOC_isrm.close()"
   ]
  },
  {
   "cell_type": "code",
   "execution_count": 723,
   "metadata": {},
   "outputs": [
    {
     "data": {
      "text/plain": [
       "51"
      ]
     },
     "execution_count": 723,
     "metadata": {},
     "output_type": "execute_result"
    }
   ],
   "source": [
    "VOC_isrm_data=0\n",
    "gc.collect()"
   ]
  },
  {
   "cell_type": "code",
   "execution_count": 725,
   "metadata": {},
   "outputs": [],
   "source": [
    "for sector_num in range(14):\n",
    "    for J40 in[\"T\",\"F\"]:\n",
    "        vars()['sector_v1_'+str(sector_num)+\"_\"+J40] = pd.DataFrame({\"isrm\":list(range(52411))})\n",
    "        for pollutant in pollutants:\n",
    "            if pollutant == \"PM2_5\":\n",
    "                vars()['sector_v1_'+str(sector_num)+\"_\"+J40][pollutant] = 0\n",
    "                for height in [\"ground\",\"low\"]:\n",
    "                    try:\n",
    "                        vars()['sector_v1_'+str(sector_num)+\"_\"+height+\"_\"+J40+\"_PM\"]\n",
    "                    except:\n",
    "                        vars()['sector_v1_'+str(sector_num)+\"_\"+J40][pollutant] = vars()['sector_v1_'+str(sector_num)+\"_\"+J40][pollutant]\n",
    "                    else:\n",
    "                        vars()['sector_v1_'+str(sector_num)+\"_\"+J40][pollutant] = vars()['sector_v1_'+str(sector_num)+\"_\"+J40][pollutant] + vars()['sector_v1_'+str(sector_num)+\"_\"+height+\"_\"+J40+\"_PM\"]\n",
    "            else:\n",
    "                vars()['sector_v1_'+str(sector_num)+\"_\"+J40][pollutant] = 0\n",
    "                for height in [\"ground\",\"low\"]:\n",
    "                    try:\n",
    "                        vars()['sector_v1_'+str(sector_num)+\"_\"+height+\"_\"+J40+\"_\"+pollutant]\n",
    "                    except:\n",
    "                        vars()['sector_v1_'+str(sector_num)+\"_\"+J40][pollutant] = vars()['sector_v1_'+str(sector_num)+\"_\"+J40][pollutant]\n",
    "                    else:\n",
    "                        vars()['sector_v1_'+str(sector_num)+\"_\"+J40][pollutant] = vars()['sector_v1_'+str(sector_num)+\"_\"+J40][pollutant] + vars()['sector_v1_'+str(sector_num)+\"_\"+height+\"_\"+J40+\"_\"+pollutant]"
   ]
  },
  {
   "cell_type": "code",
   "execution_count": 726,
   "metadata": {},
   "outputs": [],
   "source": [
    "for sector_num in range(14):\n",
    "    for J40 in[\"T\",\"F\"]:\n",
    "        vars()['sector_v1_'+str(sector_num)+\"_\"+J40].to_csv('sector_v1_'+str(sector_num)+\"_\"+J40+\".csv\")"
   ]
  },
  {
   "cell_type": "markdown",
   "metadata": {},
   "source": [
    "## Calculate concentration changes by sector & EJScreen"
   ]
  },
  {
   "cell_type": "code",
   "execution_count": 144,
   "metadata": {},
   "outputs": [],
   "source": [
    "nei_isrm_summary_state_new[\"LWINC_30\"] = np.where(\n",
    "    nei_isrm_summary_state_new[\"isrm\"].isin(isrm_multiyear_ejscreen[isrm_multiyear_ejscreen[\"LOWINCPCT\"]>\n",
    "                                                                   DescrStatsW(data=np.array(isrm_multiyear_ejscreen[\"LOWINCPCT\"]), \n",
    "                                                                               weights=isrm_multiyear_ejscreen[\"Population\"]).quantile(probs=0.7,return_pandas=False)[0]].isrm.to_list()),\"T\",\"F\")"
   ]
  },
  {
   "cell_type": "code",
   "execution_count": 145,
   "metadata": {},
   "outputs": [],
   "source": [
    "nei_isrm_summary_state_new[\"MINOR_30\"] = np.where(\n",
    "    nei_isrm_summary_state_new[\"isrm\"].isin(isrm_multiyear_ejscreen[isrm_multiyear_ejscreen[\"MINORPCT\"]>\n",
    "                                                                   DescrStatsW(data=np.array(isrm_multiyear_ejscreen[\"MINORPCT\"]), \n",
    "                                                                               weights=isrm_multiyear_ejscreen[\"Population\"]).quantile(probs=0.7,return_pandas=False)[0]].isrm.to_list()),\"T\",\"F\")"
   ]
  },
  {
   "cell_type": "code",
   "execution_count": 146,
   "metadata": {},
   "outputs": [],
   "source": [
    "nei_isrm_summary_state_new[\"PM25_30\"] = np.where(\n",
    "    nei_isrm_summary_state_new[\"isrm\"].isin(isrm_multiyear_ejscreen[isrm_multiyear_ejscreen[\"PM25\"]>\n",
    "                                                                   DescrStatsW(data=np.array(isrm_multiyear_ejscreen[\"PM25\"]), \n",
    "                                                                               weights=isrm_multiyear_ejscreen[\"Population\"]).quantile(probs=0.7,return_pandas=False)[0]].isrm.to_list()),\"T\",\"F\")"
   ]
  },
  {
   "cell_type": "code",
   "execution_count": 142,
   "metadata": {},
   "outputs": [],
   "source": [
    "LEZ_index = [\"LWINC_30\",\"MINOR_30\",\"PM25_30\"]"
   ]
  },
  {
   "cell_type": "code",
   "execution_count": 777,
   "metadata": {},
   "outputs": [],
   "source": [
    "for ej_variable in LEZ_index:\n",
    "    vars()['sector_sum_'+ej_variable] = nei_isrm_summary_state_new.groupby([\"sector\",ej_variable]).agg({\"VOC\":\"sum\",\"NOx\":\"sum\",\"NH3\":\"sum\",\"SOx\":\"sum\",\"PM2_5\":\"sum\"}).reset_index()\n",
    "    vars()['sector_sum_'+ej_variable].to_csv('sector_sum_'+ej_variable+\".csv\")"
   ]
  },
  {
   "cell_type": "code",
   "execution_count": 779,
   "metadata": {},
   "outputs": [],
   "source": [
    "for num in range(14):\n",
    "    for height in [\"ground\",\"low\"]:\n",
    "        for ej_variable in LEZ_index:\n",
    "            for J40 in[\"T\",\"F\"]:\n",
    "                vars()['sector_sum_'+str(num)+\"_\"+height+\"_\"+ej_variable+\"_\"+J40] = nei_isrm_summary_state_new[(nei_isrm_summary_state_new[\"sector\"] ==sector_list[num])&(nei_isrm_summary_state_new[\"height_type\"] ==height)&(nei_isrm_summary_state_new[ej_variable]==J40)].reset_index(drop =True)"
   ]
  },
  {
   "cell_type": "code",
   "execution_count": 781,
   "metadata": {},
   "outputs": [],
   "source": [
    "file = './PrimaryPM25L0.nc'\n",
    "PM_isrm = Dataset(file, mode='r')"
   ]
  },
  {
   "cell_type": "code",
   "execution_count": 782,
   "metadata": {},
   "outputs": [],
   "source": [
    "PM_isrm_data = ma.getdata(PM_isrm.variables[\"PrimaryPM25\"][0])"
   ]
  },
  {
   "cell_type": "code",
   "execution_count": 784,
   "metadata": {},
   "outputs": [],
   "source": [
    "for num in range(14):\n",
    "    height = \"ground\"\n",
    "    for ej_variable in LEZ_index:\n",
    "        for J40 in[\"T\",\"F\"]:\n",
    "            if vars()['sector_sum_'+str(num)+\"_\"+height+\"_\"+ej_variable+\"_\"+J40].shape[0]>0:\n",
    "                vars()['sector_sum_'+str(num)+\"_\"+height+\"_\"+ej_variable+\"_\"+J40+\"_PM\"] = sector_conc_value_j40(PM_isrm_data,vars()['sector_sum_'+str(num)+\"_\"+height+\"_\"+ej_variable+\"_\"+J40],\"PM2_5\")"
   ]
  },
  {
   "cell_type": "code",
   "execution_count": 786,
   "metadata": {},
   "outputs": [],
   "source": [
    "PM_isrm.close()"
   ]
  },
  {
   "cell_type": "code",
   "execution_count": 787,
   "metadata": {},
   "outputs": [
    {
     "data": {
      "text/plain": [
       "87"
      ]
     },
     "execution_count": 787,
     "metadata": {},
     "output_type": "execute_result"
    }
   ],
   "source": [
    "PM_isrm_data=0\n",
    "gc.collect()"
   ]
  },
  {
   "cell_type": "code",
   "execution_count": 788,
   "metadata": {},
   "outputs": [],
   "source": [
    "file = './PrimaryPM25L1.nc'\n",
    "PM_isrm = Dataset(file, mode='r')"
   ]
  },
  {
   "cell_type": "code",
   "execution_count": 789,
   "metadata": {},
   "outputs": [],
   "source": [
    "PM_isrm_data = ma.getdata(PM_isrm.variables[\"PrimaryPM25\"][0])"
   ]
  },
  {
   "cell_type": "code",
   "execution_count": 790,
   "metadata": {
    "scrolled": true
   },
   "outputs": [],
   "source": [
    "for num in range(14):\n",
    "    height = \"low\"\n",
    "    for ej_variable in LEZ_index:\n",
    "        for J40 in[\"T\",\"F\"]:\n",
    "            if vars()['sector_sum_'+str(num)+\"_\"+height+\"_\"+ej_variable+\"_\"+J40].shape[0]>0:\n",
    "                if vars()['sector_sum_'+str(num)+\"_\"+height+\"_\"+ej_variable+\"_\"+J40][\"PM2_5\"].sum()>0:\n",
    "                    vars()['sector_sum_'+str(num)+\"_\"+height+\"_\"+ej_variable+\"_\"+J40+\"_PM\"] = sector_conc_value_j40(PM_isrm_data,vars()['sector_sum_'+str(num)+\"_\"+height+\"_\"+ej_variable+\"_\"+J40],\"PM2_5\")"
   ]
  },
  {
   "cell_type": "code",
   "execution_count": 791,
   "metadata": {},
   "outputs": [],
   "source": [
    "PM_isrm.close()"
   ]
  },
  {
   "cell_type": "code",
   "execution_count": 792,
   "metadata": {},
   "outputs": [
    {
     "data": {
      "text/plain": [
       "51"
      ]
     },
     "execution_count": 792,
     "metadata": {},
     "output_type": "execute_result"
    }
   ],
   "source": [
    "PM_isrm_data=0\n",
    "gc.collect()"
   ]
  },
  {
   "cell_type": "code",
   "execution_count": 793,
   "metadata": {},
   "outputs": [],
   "source": [
    "file = './pNO3L0.nc'\n",
    "NOx_isrm = Dataset(file, mode='r')"
   ]
  },
  {
   "cell_type": "code",
   "execution_count": 794,
   "metadata": {},
   "outputs": [],
   "source": [
    "NOx_isrm_data = ma.getdata(NOx_isrm.variables[\"pNO3\"][0])"
   ]
  },
  {
   "cell_type": "code",
   "execution_count": 795,
   "metadata": {},
   "outputs": [],
   "source": [
    "for num in range(14):\n",
    "    height = \"ground\"\n",
    "    for ej_variable in LEZ_index:\n",
    "        for J40 in[\"T\",\"F\"]:\n",
    "            if vars()['sector_sum_'+str(num)+\"_\"+height+\"_\"+ej_variable+\"_\"+J40].shape[0]>0:\n",
    "                if vars()['sector_sum_'+str(num)+\"_\"+height+\"_\"+ej_variable+\"_\"+J40][\"NOx\"].sum()>0:\n",
    "                    vars()['sector_sum_'+str(num)+\"_\"+height+\"_\"+ej_variable+\"_\"+J40+\"_NOx\"] = sector_conc_value_j40(NOx_isrm_data,vars()['sector_sum_'+str(num)+\"_\"+height+\"_\"+ej_variable+\"_\"+J40],\"NOx\")\n"
   ]
  },
  {
   "cell_type": "code",
   "execution_count": 796,
   "metadata": {},
   "outputs": [],
   "source": [
    "NOx_isrm.close()"
   ]
  },
  {
   "cell_type": "code",
   "execution_count": 797,
   "metadata": {},
   "outputs": [
    {
     "data": {
      "text/plain": [
       "51"
      ]
     },
     "execution_count": 797,
     "metadata": {},
     "output_type": "execute_result"
    }
   ],
   "source": [
    "NOx_isrm_data=0\n",
    "gc.collect()"
   ]
  },
  {
   "cell_type": "code",
   "execution_count": 798,
   "metadata": {},
   "outputs": [],
   "source": [
    "file = './pNO3L1.nc'\n",
    "NOx_isrm = Dataset(file, mode='r')"
   ]
  },
  {
   "cell_type": "code",
   "execution_count": 799,
   "metadata": {},
   "outputs": [],
   "source": [
    "NOx_isrm_data = ma.getdata(NOx_isrm.variables[\"pNO3\"][0])"
   ]
  },
  {
   "cell_type": "code",
   "execution_count": 800,
   "metadata": {},
   "outputs": [],
   "source": [
    "for num in range(14):\n",
    "    height = \"low\"\n",
    "    for ej_variable in LEZ_index:\n",
    "        for J40 in[\"T\",\"F\"]:\n",
    "            if vars()['sector_sum_'+str(num)+\"_\"+height+\"_\"+ej_variable+\"_\"+J40].shape[0]>0:\n",
    "                if vars()['sector_sum_'+str(num)+\"_\"+height+\"_\"+ej_variable+\"_\"+J40][\"NOx\"].sum()>0:\n",
    "                    vars()['sector_sum_'+str(num)+\"_\"+height+\"_\"+ej_variable+\"_\"+J40+\"_NOx\"] = sector_conc_value_j40(NOx_isrm_data,vars()['sector_sum_'+str(num)+\"_\"+height+\"_\"+ej_variable+\"_\"+J40],\"NOx\")\n"
   ]
  },
  {
   "cell_type": "code",
   "execution_count": 801,
   "metadata": {},
   "outputs": [],
   "source": [
    "NOx_isrm.close()"
   ]
  },
  {
   "cell_type": "code",
   "execution_count": 802,
   "metadata": {},
   "outputs": [
    {
     "data": {
      "text/plain": [
       "51"
      ]
     },
     "execution_count": 802,
     "metadata": {},
     "output_type": "execute_result"
    }
   ],
   "source": [
    "NOx_isrm_data=0\n",
    "gc.collect()"
   ]
  },
  {
   "cell_type": "code",
   "execution_count": 803,
   "metadata": {},
   "outputs": [],
   "source": [
    "file = './pSO4L0.nc'\n",
    "SOx_isrm = Dataset(file, mode='r')"
   ]
  },
  {
   "cell_type": "code",
   "execution_count": 804,
   "metadata": {},
   "outputs": [],
   "source": [
    "SOx_isrm_data = ma.getdata(SOx_isrm.variables[\"pSO4\"][0])"
   ]
  },
  {
   "cell_type": "code",
   "execution_count": 805,
   "metadata": {},
   "outputs": [],
   "source": [
    "for num in range(14):\n",
    "    height = \"ground\"\n",
    "    for ej_variable in LEZ_index:\n",
    "        for J40 in[\"T\",\"F\"]:\n",
    "            if vars()['sector_sum_'+str(num)+\"_\"+height+\"_\"+ej_variable+\"_\"+J40].shape[0]>0:\n",
    "                if vars()['sector_sum_'+str(num)+\"_\"+height+\"_\"+ej_variable+\"_\"+J40][\"SOx\"].sum()>0:\n",
    "                    vars()['sector_sum_'+str(num)+\"_\"+height+\"_\"+ej_variable+\"_\"+J40+\"_SOx\"] = sector_conc_value_j40(SOx_isrm_data,vars()['sector_sum_'+str(num)+\"_\"+height+\"_\"+ej_variable+\"_\"+J40],\"SOx\")\n"
   ]
  },
  {
   "cell_type": "code",
   "execution_count": 806,
   "metadata": {},
   "outputs": [],
   "source": [
    "SOx_isrm.close()"
   ]
  },
  {
   "cell_type": "code",
   "execution_count": 807,
   "metadata": {},
   "outputs": [
    {
     "data": {
      "text/plain": [
       "51"
      ]
     },
     "execution_count": 807,
     "metadata": {},
     "output_type": "execute_result"
    }
   ],
   "source": [
    "SOx_isrm_data=0\n",
    "gc.collect()"
   ]
  },
  {
   "cell_type": "code",
   "execution_count": 808,
   "metadata": {},
   "outputs": [],
   "source": [
    "file = './pSO4L1.nc'\n",
    "SOx_isrm = Dataset(file, mode='r')"
   ]
  },
  {
   "cell_type": "code",
   "execution_count": 809,
   "metadata": {},
   "outputs": [],
   "source": [
    "SOx_isrm_data = ma.getdata(SOx_isrm.variables[\"pSO4\"][0])"
   ]
  },
  {
   "cell_type": "code",
   "execution_count": 810,
   "metadata": {},
   "outputs": [],
   "source": [
    "for num in range(14):\n",
    "    height = \"low\"\n",
    "    for ej_variable in LEZ_index:\n",
    "        for J40 in[\"T\",\"F\"]:\n",
    "            if vars()['sector_sum_'+str(num)+\"_\"+height+\"_\"+ej_variable+\"_\"+J40].shape[0]>0:\n",
    "                if vars()['sector_sum_'+str(num)+\"_\"+height+\"_\"+ej_variable+\"_\"+J40][\"SOx\"].sum()>0:\n",
    "                    vars()['sector_sum_'+str(num)+\"_\"+height+\"_\"+ej_variable+\"_\"+J40+\"_SOx\"] = sector_conc_value_j40(SOx_isrm_data,vars()['sector_sum_'+str(num)+\"_\"+height+\"_\"+ej_variable+\"_\"+J40],\"SOx\")\n"
   ]
  },
  {
   "cell_type": "code",
   "execution_count": 811,
   "metadata": {},
   "outputs": [],
   "source": [
    "SOx_isrm.close()"
   ]
  },
  {
   "cell_type": "code",
   "execution_count": 812,
   "metadata": {},
   "outputs": [
    {
     "data": {
      "text/plain": [
       "51"
      ]
     },
     "execution_count": 812,
     "metadata": {},
     "output_type": "execute_result"
    }
   ],
   "source": [
    "SOx_isrm_data=0\n",
    "gc.collect()"
   ]
  },
  {
   "cell_type": "code",
   "execution_count": 813,
   "metadata": {},
   "outputs": [],
   "source": [
    "file = './pNH4L0.nc'\n",
    "NH3_isrm = Dataset(file, mode='r')"
   ]
  },
  {
   "cell_type": "code",
   "execution_count": 814,
   "metadata": {},
   "outputs": [],
   "source": [
    "NH3_isrm_data = ma.getdata(NH3_isrm.variables[\"pNH4\"][0])"
   ]
  },
  {
   "cell_type": "code",
   "execution_count": 815,
   "metadata": {},
   "outputs": [],
   "source": [
    "for num in range(14):\n",
    "    height = \"ground\"\n",
    "    for ej_variable in LEZ_index:\n",
    "        for J40 in[\"T\",\"F\"]:\n",
    "            if vars()['sector_sum_'+str(num)+\"_\"+height+\"_\"+ej_variable+\"_\"+J40].shape[0]>0:\n",
    "                if vars()['sector_sum_'+str(num)+\"_\"+height+\"_\"+ej_variable+\"_\"+J40][\"NH3\"].sum()>0:\n",
    "                    vars()['sector_sum_'+str(num)+\"_\"+height+\"_\"+ej_variable+\"_\"+J40+\"_NH3\"] = sector_conc_value_j40(NH3_isrm_data,vars()['sector_sum_'+str(num)+\"_\"+height+\"_\"+ej_variable+\"_\"+J40],\"NH3\")\n"
   ]
  },
  {
   "cell_type": "code",
   "execution_count": 816,
   "metadata": {},
   "outputs": [],
   "source": [
    "NH3_isrm.close()"
   ]
  },
  {
   "cell_type": "code",
   "execution_count": 817,
   "metadata": {},
   "outputs": [
    {
     "data": {
      "text/plain": [
       "51"
      ]
     },
     "execution_count": 817,
     "metadata": {},
     "output_type": "execute_result"
    }
   ],
   "source": [
    "NH3_isrm_data=0\n",
    "gc.collect()"
   ]
  },
  {
   "cell_type": "code",
   "execution_count": 818,
   "metadata": {},
   "outputs": [],
   "source": [
    "file = './pNH4L1.nc'\n",
    "NH3_isrm = Dataset(file, mode='r')"
   ]
  },
  {
   "cell_type": "code",
   "execution_count": 819,
   "metadata": {},
   "outputs": [],
   "source": [
    "NH3_isrm_data = ma.getdata(NH3_isrm.variables[\"pNH4\"][0])"
   ]
  },
  {
   "cell_type": "code",
   "execution_count": 820,
   "metadata": {},
   "outputs": [],
   "source": [
    "for num in range(14):\n",
    "    height = \"low\"\n",
    "    for ej_variable in LEZ_index:\n",
    "        for J40 in[\"T\",\"F\"]:\n",
    "            if vars()['sector_sum_'+str(num)+\"_\"+height+\"_\"+ej_variable+\"_\"+J40].shape[0]>0:\n",
    "                if vars()['sector_sum_'+str(num)+\"_\"+height+\"_\"+ej_variable+\"_\"+J40][\"NH3\"].sum()>0:\n",
    "                    vars()['sector_sum_'+str(num)+\"_\"+height+\"_\"+ej_variable+\"_\"+J40+\"_NH3\"] = sector_conc_value_j40(NH3_isrm_data,vars()['sector_sum_'+str(num)+\"_\"+height+\"_\"+ej_variable+\"_\"+J40],\"NH3\")\n"
   ]
  },
  {
   "cell_type": "code",
   "execution_count": 821,
   "metadata": {},
   "outputs": [],
   "source": [
    "NH3_isrm.close()"
   ]
  },
  {
   "cell_type": "code",
   "execution_count": 822,
   "metadata": {},
   "outputs": [
    {
     "data": {
      "text/plain": [
       "51"
      ]
     },
     "execution_count": 822,
     "metadata": {},
     "output_type": "execute_result"
    }
   ],
   "source": [
    "NH3_isrm_data=0\n",
    "gc.collect()"
   ]
  },
  {
   "cell_type": "code",
   "execution_count": 823,
   "metadata": {},
   "outputs": [],
   "source": [
    "file = './SOAL0.nc'\n",
    "VOC_isrm = Dataset(file, mode='r')"
   ]
  },
  {
   "cell_type": "code",
   "execution_count": 824,
   "metadata": {},
   "outputs": [],
   "source": [
    "VOC_isrm_data = ma.getdata(VOC_isrm.variables[\"SOA\"][0])"
   ]
  },
  {
   "cell_type": "code",
   "execution_count": 825,
   "metadata": {},
   "outputs": [],
   "source": [
    "for num in range(14):\n",
    "    height = \"ground\"\n",
    "    for ej_variable in LEZ_index:\n",
    "        for J40 in[\"T\",\"F\"]:\n",
    "            if vars()['sector_sum_'+str(num)+\"_\"+height+\"_\"+ej_variable+\"_\"+J40].shape[0]>0:\n",
    "                if vars()['sector_sum_'+str(num)+\"_\"+height+\"_\"+ej_variable+\"_\"+J40][\"VOC\"].sum()>0:\n",
    "                    vars()['sector_sum_'+str(num)+\"_\"+height+\"_\"+ej_variable+\"_\"+J40+\"_VOC\"] = sector_conc_value_j40(VOC_isrm_data,vars()['sector_sum_'+str(num)+\"_\"+height+\"_\"+ej_variable+\"_\"+J40],\"VOC\")\n"
   ]
  },
  {
   "cell_type": "code",
   "execution_count": 826,
   "metadata": {},
   "outputs": [],
   "source": [
    "VOC_isrm.close()"
   ]
  },
  {
   "cell_type": "code",
   "execution_count": 827,
   "metadata": {},
   "outputs": [
    {
     "data": {
      "text/plain": [
       "51"
      ]
     },
     "execution_count": 827,
     "metadata": {},
     "output_type": "execute_result"
    }
   ],
   "source": [
    "VOC_isrm_data=0\n",
    "gc.collect()"
   ]
  },
  {
   "cell_type": "code",
   "execution_count": 828,
   "metadata": {},
   "outputs": [],
   "source": [
    "file = './SOAL1.nc'\n",
    "VOC_isrm = Dataset(file, mode='r')"
   ]
  },
  {
   "cell_type": "code",
   "execution_count": 829,
   "metadata": {},
   "outputs": [],
   "source": [
    "VOC_isrm_data = ma.getdata(VOC_isrm.variables[\"SOA\"][0])"
   ]
  },
  {
   "cell_type": "code",
   "execution_count": 830,
   "metadata": {},
   "outputs": [],
   "source": [
    "for num in range(14):\n",
    "    height = \"low\"\n",
    "    for ej_variable in LEZ_index:\n",
    "        for J40 in[\"T\",\"F\"]:\n",
    "            if vars()['sector_sum_'+str(num)+\"_\"+height+\"_\"+ej_variable+\"_\"+J40].shape[0]>0:\n",
    "                if vars()['sector_sum_'+str(num)+\"_\"+height+\"_\"+ej_variable+\"_\"+J40][\"VOC\"].sum()>0:\n",
    "                    vars()['sector_sum_'+str(num)+\"_\"+height+\"_\"+ej_variable+\"_\"+J40+\"_VOC\"] = sector_conc_value_j40(VOC_isrm_data,vars()['sector_sum_'+str(num)+\"_\"+height+\"_\"+ej_variable+\"_\"+J40],\"VOC\")\n"
   ]
  },
  {
   "cell_type": "code",
   "execution_count": 831,
   "metadata": {},
   "outputs": [],
   "source": [
    "VOC_isrm.close()"
   ]
  },
  {
   "cell_type": "code",
   "execution_count": 832,
   "metadata": {},
   "outputs": [
    {
     "data": {
      "text/plain": [
       "51"
      ]
     },
     "execution_count": 832,
     "metadata": {},
     "output_type": "execute_result"
    }
   ],
   "source": [
    "VOC_isrm_data=0\n",
    "gc.collect()"
   ]
  },
  {
   "cell_type": "code",
   "execution_count": 834,
   "metadata": {},
   "outputs": [],
   "source": [
    "for sector_num in range(14):\n",
    "    for ej_variable in LEZ_index:\n",
    "        for J40 in[\"T\",\"F\"]:\n",
    "            vars()['sector_'+str(sector_num)+\"_\"+ej_variable+\"_\"+J40] = pd.DataFrame({\"isrm\":list(range(52411))})\n",
    "            for pollutant in pollutants:\n",
    "                if pollutant == \"PM2_5\":\n",
    "                    vars()['sector_'+str(sector_num)+\"_\"+ej_variable+\"_\"+J40][pollutant] = 0\n",
    "                    for height in [\"ground\",\"low\"]:\n",
    "                        try:\n",
    "                            vars()['sector_sum_'+str(sector_num)+\"_\"+height+\"_\"+ej_variable+\"_\"+J40+\"_PM\"]\n",
    "                        except:\n",
    "                            vars()['sector_'+str(sector_num)+\"_\"+ej_variable+\"_\"+J40][pollutant]  = vars()['sector_'+str(sector_num)+\"_\"+ej_variable+\"_\"+J40][pollutant]\n",
    "                        else:\n",
    "                            vars()['sector_'+str(sector_num)+\"_\"+ej_variable+\"_\"+J40][pollutant]  = vars()['sector_'+str(sector_num)+\"_\"+ej_variable+\"_\"+J40][pollutant] + vars()['sector_sum_'+str(sector_num)+\"_\"+height+\"_\"+ej_variable+\"_\"+J40+\"_PM\"]\n",
    "                else:\n",
    "                    vars()['sector_'+str(sector_num)+\"_\"+ej_variable+\"_\"+J40][pollutant] = 0\n",
    "                    for height in [\"ground\",\"low\"]:\n",
    "                        try:\n",
    "                            vars()['sector_sum_'+str(sector_num)+\"_\"+height+\"_\"+ej_variable+\"_\"+J40+\"_\"+pollutant]\n",
    "                        except:\n",
    "                            vars()['sector_'+str(sector_num)+\"_\"+ej_variable+\"_\"+J40][pollutant] = vars()['sector_'+str(sector_num)+\"_\"+ej_variable+\"_\"+J40][pollutant]\n",
    "                        else:\n",
    "                            vars()['sector_'+str(sector_num)+\"_\"+ej_variable+\"_\"+J40][pollutant] = vars()['sector_'+str(sector_num)+\"_\"+ej_variable+\"_\"+J40][pollutant] + vars()['sector_sum_'+str(sector_num)+\"_\"+height+\"_\"+ej_variable+\"_\"+J40+\"_\"+pollutant]"
   ]
  },
  {
   "cell_type": "code",
   "execution_count": 835,
   "metadata": {},
   "outputs": [],
   "source": [
    "for sector_num in range(14):\n",
    "    for ej_variable in LEZ_index:\n",
    "        for J40 in[\"T\",\"F\"]:\n",
    "            vars()['sector_'+str(sector_num)+\"_\"+ej_variable+\"_\"+J40].to_csv('./LEZ_conc_margin/sector_'+str(sector_num)+\"_\"+ej_variable+\"_\"+J40+\".csv\")"
   ]
  },
  {
   "cell_type": "code",
   "execution_count": null,
   "metadata": {},
   "outputs": [],
   "source": []
  },
  {
   "cell_type": "markdown",
   "metadata": {},
   "source": [
    "# Calculate concentration changes for demographic groups"
   ]
  },
  {
   "cell_type": "code",
   "execution_count": 135,
   "metadata": {},
   "outputs": [],
   "source": [
    "sector_sum = nei_isrm_summary_state_new.groupby([\"sector\",]).agg({\"VOC\":\"sum\",\"NOx\":\"sum\",\"NH3\":\"sum\",\"SOx\":\"sum\",\"PM2_5\":\"sum\"}).reset_index()\n",
    "sector_emis_reduce_list=[]\n",
    "pollutant_list=[]\n",
    "sector_name_list=[]\n",
    "sector_emis_list = []\n",
    "\n",
    "conc_p = []\n",
    "\n",
    "conc_j40_v1_land=[]\n",
    "conc_outside_v1_land = []\n",
    "\n",
    "conc_w=[]\n",
    "conc_b = []\n",
    "conc_a = []\n",
    "conc_h = []\n",
    "conc_m = []\n",
    "conc_n = []\n",
    "conc_o = []\n",
    "conc_lowinc = []\n",
    "conc_highinc = []\n",
    "\n",
    "for sector_num in range(14):\n",
    "    for pollutant in pollutants:\n",
    "        if sector_sum[pollutant][sector_num]>0:\n",
    "            sector_emis = sector_sum[pollutant][sector_num]/31709.79\n",
    "            sector_conc = vars()['sector_'+str(sector_num)][pollutant]\n",
    "            sector_conc_total = sum(sector_conc[isrm_multiyear_ejscreen.isrm.to_list()]*isrm_multiyear_ejscreen[\"Population\"].values)/isrm_multiyear_ejscreen[\"Population\"].sum()\n",
    "\n",
    "            sector_conc_j40_v1_land = sum(sector_conc[isrm_pop_race_ethnicity_J40_v1_land.isrm.to_list()]*isrm_pop_race_ethnicity_J40_v1_land[\"Population\"].values)/isrm_pop_race_ethnicity_J40_v1_land[\"Population\"].sum()\n",
    "            sector_conc_outside_v1_land = sum(sector_conc[isrm_pop_race_ethnicity_outside_v1_land.isrm.to_list()]*isrm_pop_race_ethnicity_outside_v1_land[\"Population\"].values)/isrm_pop_race_ethnicity_outside_v1_land[\"Population\"].sum()\n",
    "\n",
    "            sector_conc_w = sum(sector_conc[isrm_multiyear_ejscreen.isrm.to_list()]*isrm_multiyear_ejscreen[\"White\"].values)/isrm_multiyear_ejscreen[\"White\"].sum()\n",
    "            sector_conc_b = sum(sector_conc[isrm_multiyear_ejscreen.isrm.to_list()]*isrm_multiyear_ejscreen[\"Black\"].values)/isrm_multiyear_ejscreen[\"Black\"].sum()\n",
    "            sector_conc_a = sum(sector_conc[isrm_multiyear_ejscreen.isrm.to_list()]*isrm_multiyear_ejscreen[\"Asian_Pacific\"].values)/isrm_multiyear_ejscreen[\"Asian_Pacific\"].sum()\n",
    "            sector_conc_h = sum(sector_conc[isrm_multiyear_ejscreen.isrm.to_list()]*isrm_multiyear_ejscreen[\"Hispanic\"].values)/isrm_multiyear_ejscreen[\"Hispanic\"].sum()\n",
    "            sector_conc_m = sum(sector_conc[isrm_multiyear_ejscreen.isrm.to_list()]*isrm_multiyear_ejscreen[\"Mixed\"].values)/isrm_multiyear_ejscreen[\"Mixed\"].sum()\n",
    "            sector_conc_n = sum(sector_conc[isrm_multiyear_ejscreen.isrm.to_list()]*isrm_multiyear_ejscreen[\"Native\"].values)/isrm_multiyear_ejscreen[\"Native\"].sum()\n",
    "            sector_conc_o = sum(sector_conc[isrm_multiyear_ejscreen.isrm.to_list()]*isrm_multiyear_ejscreen[\"Other\"].values)/isrm_multiyear_ejscreen[\"Other\"].sum()\n",
    "            sector_conc_lowinc = np.nansum(sector_conc[isrm_multiyear_ejscreen.isrm.to_list()].values*isrm_multiyear_ejscreen[\"Population\"]*isrm_multiyear_ejscreen[\"LOWINCPCT\"])/np.nansum(isrm_multiyear_ejscreen[\"Population\"]*isrm_multiyear_ejscreen[\"LOWINCPCT\"])\n",
    "            sector_conc_highinc = np.nansum(sector_conc[isrm_multiyear_ejscreen.isrm.to_list()].values*isrm_multiyear_ejscreen[\"Population\"]*(1-isrm_multiyear_ejscreen[\"LOWINCPCT\"]))/np.nansum(isrm_multiyear_ejscreen[\"Population\"]*(1-isrm_multiyear_ejscreen[\"LOWINCPCT\"]))\n",
    "\n",
    "            sector_emis_list.append(sector_emis)\n",
    "            conc_p.append(sector_conc_total)\n",
    "\n",
    "            conc_j40_v1_land.append(sector_conc_j40_v1_land)\n",
    "            conc_outside_v1_land.append(sector_conc_outside_v1_land)\n",
    "            \n",
    "            conc_w.append(sector_conc_w)\n",
    "            conc_b.append(sector_conc_b)\n",
    "            conc_a.append(sector_conc_a)\n",
    "            conc_h.append(sector_conc_h)\n",
    "            conc_m.append(sector_conc_m)\n",
    "            conc_n.append(sector_conc_n)\n",
    "            conc_o.append(sector_conc_o)            \n",
    "            conc_lowinc.append(sector_conc_lowinc)            \n",
    "            conc_highinc.append(sector_conc_highinc)            \n",
    "\n",
    "            pollutant_list.append(pollutant)\n",
    "            sector_name_list.append(sector_list[sector_num])\n",
    "\n",
    "sector_pollutant_justice40_ejscreen_race = pd.DataFrame.from_dict({'emis':sector_emis_list,\n",
    "\"conc_p\":conc_p,\"pollutant\":pollutant_list,\n",
    "\"sector\":sector_name_list,\"conc_j40_v1_land\":conc_j40_v1_land,\"conc_outside_v1_land\":conc_outside_v1_land,\n",
    "                          \"conc_w\":conc_w,\"conc_b\":conc_b,\"conc_a\":conc_a,\n",
    "                          \"conc_h\":conc_h,\"conc_m\":conc_m,\"conc_n\":conc_n,\n",
    "                          \"conc_o\":conc_o,\"conc_lowinc\":conc_lowinc,\"conc_highinc\":conc_highinc})"
   ]
  },
  {
   "cell_type": "code",
   "execution_count": 138,
   "metadata": {},
   "outputs": [],
   "source": [
    "sector_pollutant_justice40_ejscreen_race.to_csv(\"sector_pollutant_justice40_ejscreen_race_new.csv\")"
   ]
  },
  {
   "cell_type": "code",
   "execution_count": 139,
   "metadata": {},
   "outputs": [],
   "source": [
    "sector_sum_v1_J40 = nei_isrm_summary_state_new.groupby([\"sector\",\"J40_v1\"]).agg({\"VOC\":\"sum\",\"NOx\":\"sum\",\"NH3\":\"sum\",\"SOx\":\"sum\",\"PM2_5\":\"sum\"}).reset_index()\n",
    "sector_emis_reduce_list=[]\n",
    "pollutant_list=[]\n",
    "sector_name_list=[]\n",
    "sector_emis_list = []\n",
    "J40_list = []\n",
    "\n",
    "conc_p = []\n",
    "conc_j40_v1_land=[]\n",
    "conc_outside_v1_land = []\n",
    "\n",
    "conc_w=[]\n",
    "conc_b = []\n",
    "conc_a = []\n",
    "conc_h = []\n",
    "conc_m = []\n",
    "conc_n = []\n",
    "conc_o = []\n",
    "conc_lowinc = []\n",
    "conc_highinc = []\n",
    "\n",
    "for sector_num in range(14):\n",
    "    for J40 in[\"T\",\"F\"]:\n",
    "        sector_sum_v1_select = sector_sum_v1_J40[sector_sum_v1_J40[\"J40_v1\"]==J40].reset_index(drop = True)\n",
    "        for pollutant in pollutants:\n",
    "            if sector_sum_v1_select[pollutant][sector_num]>0:\n",
    "                sector_emis = sector_sum_v1_select[pollutant][sector_num]/31709.79\n",
    "                sector_conc = vars()['sector_v1_'+str(sector_num)+\"_\"+J40][pollutant]\n",
    "                sector_conc_total = sum(sector_conc[isrm_multiyear_ejscreen.isrm.to_list()]*isrm_multiyear_ejscreen[\"Population\"].values)/isrm_multiyear_ejscreen[\"Population\"].sum()\n",
    "                sector_conc_j40_v1_land = sum(sector_conc[isrm_pop_race_ethnicity_J40_v1_land.isrm.to_list()]*isrm_pop_race_ethnicity_J40_v1_land[\"Population\"].values)/isrm_pop_race_ethnicity_J40_v1_land[\"Population\"].sum()\n",
    "                sector_conc_outside_v1_land = sum(sector_conc[isrm_pop_race_ethnicity_outside_v1_land.isrm.to_list()]*isrm_pop_race_ethnicity_outside_v1_land[\"Population\"].values)/isrm_pop_race_ethnicity_outside_v1_land[\"Population\"].sum()\n",
    "                sector_conc_w = sum(sector_conc[isrm_multiyear_ejscreen.isrm.to_list()]*isrm_multiyear_ejscreen[\"White\"].values)/isrm_multiyear_ejscreen[\"White\"].sum()\n",
    "                sector_conc_b = sum(sector_conc[isrm_multiyear_ejscreen.isrm.to_list()]*isrm_multiyear_ejscreen[\"Black\"].values)/isrm_multiyear_ejscreen[\"Black\"].sum()\n",
    "                sector_conc_a = sum(sector_conc[isrm_multiyear_ejscreen.isrm.to_list()]*isrm_multiyear_ejscreen[\"Asian_Pacific\"].values)/isrm_multiyear_ejscreen[\"Asian_Pacific\"].sum()\n",
    "                sector_conc_h = sum(sector_conc[isrm_multiyear_ejscreen.isrm.to_list()]*isrm_multiyear_ejscreen[\"Hispanic\"].values)/isrm_multiyear_ejscreen[\"Hispanic\"].sum()\n",
    "                sector_conc_m = sum(sector_conc[isrm_multiyear_ejscreen.isrm.to_list()]*isrm_multiyear_ejscreen[\"Mixed\"].values)/isrm_multiyear_ejscreen[\"Mixed\"].sum()\n",
    "                sector_conc_n = sum(sector_conc[isrm_multiyear_ejscreen.isrm.to_list()]*isrm_multiyear_ejscreen[\"Native\"].values)/isrm_multiyear_ejscreen[\"Native\"].sum()\n",
    "                sector_conc_o = sum(sector_conc[isrm_multiyear_ejscreen.isrm.to_list()]*isrm_multiyear_ejscreen[\"Other\"].values)/isrm_multiyear_ejscreen[\"Other\"].sum()\n",
    "                sector_conc_lowinc = np.nansum(sector_conc[isrm_multiyear_ejscreen.isrm.to_list()].values*isrm_multiyear_ejscreen[\"Population\"]*isrm_multiyear_ejscreen[\"LOWINCPCT\"])/np.nansum(isrm_multiyear_ejscreen[\"Population\"]*isrm_multiyear_ejscreen[\"LOWINCPCT\"])\n",
    "                sector_conc_highinc = np.nansum(sector_conc[isrm_multiyear_ejscreen.isrm.to_list()].values*isrm_multiyear_ejscreen[\"Population\"]*(1-isrm_multiyear_ejscreen[\"LOWINCPCT\"]))/np.nansum(isrm_multiyear_ejscreen[\"Population\"]*(1-isrm_multiyear_ejscreen[\"LOWINCPCT\"]))\n",
    "\n",
    "                sector_emis_list.append(sector_emis)\n",
    "                conc_p.append(sector_conc_total)\n",
    "\n",
    "                conc_j40_v1_land.append(sector_conc_j40_v1_land)\n",
    "                conc_outside_v1_land.append(sector_conc_outside_v1_land)\n",
    "\n",
    "                conc_w.append(sector_conc_w)\n",
    "                conc_b.append(sector_conc_b)\n",
    "                conc_a.append(sector_conc_a)\n",
    "                conc_h.append(sector_conc_h)\n",
    "                conc_m.append(sector_conc_m)\n",
    "                conc_n.append(sector_conc_n)\n",
    "                conc_o.append(sector_conc_o)            \n",
    "                conc_lowinc.append(sector_conc_lowinc)            \n",
    "                conc_highinc.append(sector_conc_highinc)            \n",
    "\n",
    "                pollutant_list.append(pollutant)\n",
    "                J40_list.append(J40)\n",
    "                sector_name_list.append(sector_list[sector_num])\n",
    "\n",
    "sector_pollutant_justice40_v1_ejscreen_race_LEZ = pd.DataFrame.from_dict({'emis':sector_emis_list,\n",
    "\"conc_p\":conc_p,\"pollutant\":pollutant_list,\"J40_v1\":J40_list,\n",
    "\"sector\":sector_name_list,\"conc_j40_v1_land\":conc_j40_v1_land,\"conc_outside_v1_land\":conc_outside_v1_land,\n",
    "                          \"conc_w\":conc_w,\"conc_b\":conc_b,\"conc_a\":conc_a,\n",
    "                          \"conc_h\":conc_h,\"conc_m\":conc_m,\"conc_n\":conc_n,\n",
    "                          \"conc_o\":conc_o,\"conc_lowinc\":conc_lowinc,\"conc_highinc\":conc_highinc})"
   ]
  },
  {
   "cell_type": "code",
   "execution_count": 140,
   "metadata": {},
   "outputs": [],
   "source": [
    "sector_pollutant_justice40_v1_ejscreen_race_LEZ.to_csv(\"sector_pollutant_justice40_v1_ejscreen_race_LEZ_new.csv\")"
   ]
  },
  {
   "cell_type": "code",
   "execution_count": 148,
   "metadata": {},
   "outputs": [],
   "source": [
    "for sector_num in range(14):\n",
    "    for ej_variable in LEZ_index:\n",
    "        for J40 in[\"T\",\"F\"]:\n",
    "            vars()['sector_'+str(sector_num)+\"_\"+ej_variable+\"_\"+J40]=pd.read_csv('./LEZ_conc_margin/sector_'+str(sector_num)+\"_\"+ej_variable+\"_\"+J40+\".csv\",index_col = 0)"
   ]
  },
  {
   "cell_type": "code",
   "execution_count": 149,
   "metadata": {},
   "outputs": [],
   "source": [
    "for ej_variable in LEZ_index:\n",
    "    sector_sum_J40 = nei_isrm_summary_state_new.groupby([\"sector\",ej_variable]).agg({\"VOC\":\"sum\",\"NOx\":\"sum\",\"NH3\":\"sum\",\"SOx\":\"sum\",\"PM2_5\":\"sum\"}).reset_index()\n",
    "    sector_emis_reduce_list=[]\n",
    "    pollutant_list=[]\n",
    "    sector_name_list=[]\n",
    "    sector_emis_list = []\n",
    "    J40_list = []\n",
    "\n",
    "    conc_p = []\n",
    "    conc_j40_v1_land=[]\n",
    "    conc_outside_v1_land = []\n",
    "\n",
    "    conc_w=[]\n",
    "    conc_b = []\n",
    "    conc_a = []\n",
    "    conc_h = []\n",
    "    conc_m = []\n",
    "    conc_n = []\n",
    "    conc_o = []\n",
    "    conc_lowinc = []\n",
    "    conc_highinc = []\n",
    "\n",
    "    for sector_num in range(14):\n",
    "        for J40 in[\"T\",\"F\"]:\n",
    "            sector_sum_select = sector_sum_J40[sector_sum_J40[ej_variable]==J40].reset_index(drop = True)\n",
    "            for pollutant in pollutants:\n",
    "                if sector_sum_select[pollutant][sector_num]>0:\n",
    "                    sector_emis = sector_sum_select[pollutant][sector_num]/31709.79\n",
    "                    sector_conc = vars()['sector_'+str(sector_num)+\"_\"+ej_variable+\"_\"+J40][pollutant]\n",
    "                    sector_conc_total = sum(sector_conc[isrm_multiyear_ejscreen.isrm.to_list()]*isrm_multiyear_ejscreen[\"Population\"].values)/isrm_multiyear_ejscreen[\"Population\"].sum()\n",
    "                    sector_conc_j40_v1_land = sum(sector_conc[isrm_pop_race_ethnicity_J40_v1_land.isrm.to_list()]*isrm_pop_race_ethnicity_J40_v1_land[\"Population\"].values)/isrm_pop_race_ethnicity_J40_v1_land[\"Population\"].sum()\n",
    "                    sector_conc_outside_v1_land = sum(sector_conc[isrm_pop_race_ethnicity_outside_v1_land.isrm.to_list()]*isrm_pop_race_ethnicity_outside_v1_land[\"Population\"].values)/isrm_pop_race_ethnicity_outside_v1_land[\"Population\"].sum()\n",
    "\n",
    "                    sector_conc_w = sum(sector_conc[isrm_multiyear_ejscreen.isrm.to_list()]*isrm_multiyear_ejscreen[\"White\"].values)/isrm_multiyear_ejscreen[\"White\"].sum()\n",
    "                    sector_conc_b = sum(sector_conc[isrm_multiyear_ejscreen.isrm.to_list()]*isrm_multiyear_ejscreen[\"Black\"].values)/isrm_multiyear_ejscreen[\"Black\"].sum()\n",
    "                    sector_conc_a = sum(sector_conc[isrm_multiyear_ejscreen.isrm.to_list()]*isrm_multiyear_ejscreen[\"Asian_Pacific\"].values)/isrm_multiyear_ejscreen[\"Asian_Pacific\"].sum()\n",
    "                    sector_conc_h = sum(sector_conc[isrm_multiyear_ejscreen.isrm.to_list()]*isrm_multiyear_ejscreen[\"Hispanic\"].values)/isrm_multiyear_ejscreen[\"Hispanic\"].sum()\n",
    "                    sector_conc_m = sum(sector_conc[isrm_multiyear_ejscreen.isrm.to_list()]*isrm_multiyear_ejscreen[\"Mixed\"].values)/isrm_multiyear_ejscreen[\"Mixed\"].sum()\n",
    "                    sector_conc_n = sum(sector_conc[isrm_multiyear_ejscreen.isrm.to_list()]*isrm_multiyear_ejscreen[\"Native\"].values)/isrm_multiyear_ejscreen[\"Native\"].sum()\n",
    "                    sector_conc_o = sum(sector_conc[isrm_multiyear_ejscreen.isrm.to_list()]*isrm_multiyear_ejscreen[\"Other\"].values)/isrm_multiyear_ejscreen[\"Other\"].sum()\n",
    "                    sector_conc_lowinc = np.nansum(sector_conc[isrm_multiyear_ejscreen.isrm.to_list()].values*isrm_multiyear_ejscreen[\"Population\"]*isrm_multiyear_ejscreen[\"LOWINCPCT\"])/np.nansum(isrm_multiyear_ejscreen[\"Population\"]*isrm_multiyear_ejscreen[\"LOWINCPCT\"])\n",
    "                    sector_conc_highinc = np.nansum(sector_conc[isrm_multiyear_ejscreen.isrm.to_list()].values*isrm_multiyear_ejscreen[\"Population\"]*(1-isrm_multiyear_ejscreen[\"LOWINCPCT\"]))/np.nansum(isrm_multiyear_ejscreen[\"Population\"]*(1-isrm_multiyear_ejscreen[\"LOWINCPCT\"]))\n",
    "\n",
    "                    sector_emis_list.append(sector_emis)\n",
    "                    conc_p.append(sector_conc_total)\n",
    "\n",
    "                    conc_j40_v1_land.append(sector_conc_j40_v1_land)\n",
    "                    conc_outside_v1_land.append(sector_conc_outside_v1_land)\n",
    "\n",
    "                    conc_w.append(sector_conc_w)\n",
    "                    conc_b.append(sector_conc_b)\n",
    "                    conc_a.append(sector_conc_a)\n",
    "                    conc_h.append(sector_conc_h)\n",
    "                    conc_m.append(sector_conc_m)\n",
    "                    conc_n.append(sector_conc_n)\n",
    "                    conc_o.append(sector_conc_o)            \n",
    "                    conc_lowinc.append(sector_conc_lowinc)            \n",
    "                    conc_highinc.append(sector_conc_highinc)            \n",
    "\n",
    "                    pollutant_list.append(pollutant)\n",
    "                    J40_list.append(J40)\n",
    "                    sector_name_list.append(sector_list[sector_num])\n",
    "\n",
    "    vars()[\"sector_pollutant_justice40_ejscreen_race_LEZ_\"+ej_variable] = pd.DataFrame.from_dict({'emis':sector_emis_list,\n",
    "    \"conc_p\":conc_p,\"pollutant\":pollutant_list,ej_variable:J40_list,\n",
    "    \"sector\":sector_name_list,\"conc_j40_v1_land\":conc_j40_v1_land,\"conc_outside_v1_land\":conc_outside_v1_land,\n",
    "                                                        \"conc_w\":conc_w,\"conc_b\":conc_b,\"conc_a\":conc_a,\n",
    "                                                             \"conc_h\":conc_h,\"conc_m\":conc_m,\"conc_n\":conc_n,\n",
    "                                                             \"conc_o\":conc_o,\"conc_lowinc\":conc_lowinc,\"conc_highinc\":conc_highinc})"
   ]
  },
  {
   "cell_type": "code",
   "execution_count": 150,
   "metadata": {},
   "outputs": [],
   "source": [
    "for ej_variable in LEZ_index:\n",
    "    vars()[\"sector_pollutant_justice40_ejscreen_race_LEZ_\"+ej_variable].to_csv(\"sector_pollutant_justice40_ejscreen_race_LEZ_\"+ej_variable+\"_new.csv\")"
   ]
  }
 ],
 "metadata": {
  "kernelspec": {
   "display_name": "Python 3",
   "language": "python",
   "name": "python3"
  },
  "language_info": {
   "codemirror_mode": {
    "name": "ipython",
    "version": 3
   },
   "file_extension": ".py",
   "mimetype": "text/x-python",
   "name": "python",
   "nbconvert_exporter": "python",
   "pygments_lexer": "ipython3",
   "version": "3.7.5"
  }
 },
 "nbformat": 4,
 "nbformat_minor": 2
}
