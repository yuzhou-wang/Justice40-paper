{
 "cells": [
  {
   "cell_type": "code",
   "execution_count": 1,
   "metadata": {},
   "outputs": [],
   "source": [
    "import warnings\n",
    "warnings.filterwarnings('ignore')"
   ]
  },
  {
   "cell_type": "code",
   "execution_count": 2,
   "metadata": {
    "scrolled": true
   },
   "outputs": [],
   "source": [
    "import geopandas as gpd\n",
    "import pandas as pd\n",
    "import numpy as np"
   ]
  },
  {
   "cell_type": "markdown",
   "metadata": {},
   "source": [
    "# Merge CEJST with ISRM"
   ]
  },
  {
   "cell_type": "code",
   "execution_count": 3,
   "metadata": {},
   "outputs": [],
   "source": [
    "# Import the tract level shapefile\n",
    "Tract_2010_geometry=gpd.read_file(\"Tract_2010_geometry.shp\",index_col = 0)"
   ]
  },
  {
   "cell_type": "code",
   "execution_count": 4,
   "metadata": {},
   "outputs": [],
   "source": [
    "# Import the ISRM grid shapefile\n",
    "isrm_polygon = gpd.read_file(\"isrm_polygon.shp\",index_col = 0)"
   ]
  },
  {
   "cell_type": "code",
   "execution_count": 5,
   "metadata": {
    "scrolled": true
   },
   "outputs": [],
   "source": [
    "# Import the CEJST data\n",
    "# Data can be downloaded from https://screeningtool.geoplatform.gov/\n",
    "justice40v1 = pd.read_csv(\"Justice40/1.0-communities.csv\").rename(columns = {\"Census tract 2010 ID\":\"fips\",\"Identified as disadvantaged\":\"disadvantaged_v1\"})"
   ]
  },
  {
   "cell_type": "code",
   "execution_count": 6,
   "metadata": {},
   "outputs": [],
   "source": [
    "Tract_2010_merge = Tract_2010_geometry.merge(justice40v1,how = \"inner\")[[\"fips\",\"disadvantaged_v1\",\"geometry\"]]"
   ]
  },
  {
   "cell_type": "code",
   "execution_count": 7,
   "metadata": {},
   "outputs": [],
   "source": [
    "# Import the isrm-block crosswalk\n",
    "isrm_fips_crosswalk = pd.read_csv(\"isrm_with_fips.csv\",index_col = 0)"
   ]
  },
  {
   "cell_type": "code",
   "execution_count": 8,
   "metadata": {},
   "outputs": [],
   "source": [
    "isrm_fips_crosswalk[\"fips\"] = (isrm_fips_crosswalk[\"block_fip\"]/10000).astype(int)"
   ]
  },
  {
   "cell_type": "code",
   "execution_count": 9,
   "metadata": {},
   "outputs": [],
   "source": [
    "isrm_tract_j40_crosswalk = isrm_fips_crosswalk.merge(Tract_2010_merge,how = \"inner\", on = \"fips\")"
   ]
  },
  {
   "cell_type": "code",
   "execution_count": 10,
   "metadata": {},
   "outputs": [],
   "source": [
    "# Import the year 2010 census block land area data\n",
    "# Data can be downloaded from US census\n",
    "blockpoparea = pd.read_csv('../SpatialDecomposition/US/blockpoparea.csv')[[\"block_fip\",\"ALAND10\"]]"
   ]
  },
  {
   "cell_type": "code",
   "execution_count": 11,
   "metadata": {},
   "outputs": [],
   "source": [
    "isrm_tract_j40_crosswalk = isrm_tract_j40_crosswalk.merge(blockpoparea)"
   ]
  },
  {
   "cell_type": "code",
   "execution_count": 12,
   "metadata": {},
   "outputs": [],
   "source": [
    "isrm_tract_j40_crosswalk[\"ALAND_flag\"] = np.where(isrm_tract_j40_crosswalk['disadvantaged_v1']== True, isrm_tract_j40_crosswalk['ALAND10'], 0)\n",
    "isrm_tract_j40_crosswalk[\"population_flag\"] = np.where(isrm_tract_j40_crosswalk['disadvantaged_v1']== True, isrm_tract_j40_crosswalk['population'], 0)"
   ]
  },
  {
   "cell_type": "code",
   "execution_count": 13,
   "metadata": {},
   "outputs": [],
   "source": [
    "isrm_flag = isrm_tract_j40_crosswalk.groupby([\"isrm_grid_cell_num\"]).sum().reset_index()\n",
    "isrm_flag[\"population_percentage\"] = isrm_flag[\"population_flag\"]/isrm_flag[\"population\"]\n",
    "isrm_flag[\"land_percentage\"] = isrm_flag[\"ALAND_flag\"]/isrm_flag[\"ALAND10\"]\n",
    "isrm_flag[\"flag_j40_v1_land\"] = np.where((isrm_flag[\"population_percentage\"]>=0.5)|(isrm_flag[\"land_percentage\"]>=0.5),True,False)"
   ]
  },
  {
   "cell_type": "code",
   "execution_count": 14,
   "metadata": {},
   "outputs": [],
   "source": [
    "isrm_justice40_crosswalk = isrm_polygon.merge(isrm_flag[[\"isrm_grid_cell_num\",\"flag_j40_v1_land\"]],left_on = \"isrm\",right_on = \"isrm_grid_cell_num\",how = \"inner\")"
   ]
  },
  {
   "cell_type": "code",
   "execution_count": 15,
   "metadata": {},
   "outputs": [],
   "source": [
    "isrm_justice40_crosswalk.to_csv(\"isrm_justice40_crosswalk_v1.csv\")"
   ]
  },
  {
   "cell_type": "markdown",
   "metadata": {},
   "source": [
    "# Merge block level race-ethnicity to ISRM"
   ]
  },
  {
   "cell_type": "code",
   "execution_count": 16,
   "metadata": {},
   "outputs": [],
   "source": [
    "# Import the block level race-ethnicity data\n",
    "# Data can be downloaded from NHGIS\n",
    "block_race_ethnicity = pd.read_csv(\"nhgis0017_ds172_2010_block.csv\")"
   ]
  },
  {
   "cell_type": "code",
   "execution_count": 17,
   "metadata": {
    "scrolled": true
   },
   "outputs": [],
   "source": [
    "block_race_ethnicity_select = block_race_ethnicity[[\"GISJOIN\",\"H7Z001\",\"H7Z003\",\"H7Z004\",\"H7Z005\",\"H7Z006\",\"H7Z007\",\"H7Z008\",'H7Z009',\"H7Z010\"]].rename(columns = {\"H7Z001\":\"Population\",\"H7Z003\":\"White\",\"H7Z004\":\"Black\",\"H7Z005\":\"Native\",\"H7Z006\":\"Asian\",\"H7Z007\":\"Hawaii\",\"H7Z008\":\"Other\",\"H7Z009\":\"Mixed\",\"H7Z010\":\"Hispanic\"})"
   ]
  },
  {
   "cell_type": "code",
   "execution_count": 18,
   "metadata": {},
   "outputs": [],
   "source": [
    "block_race_ethnicity_select = block_race_ethnicity_select[block_race_ethnicity_select[\"Population\"]>0].reset_index(drop = True)"
   ]
  },
  {
   "cell_type": "code",
   "execution_count": 19,
   "metadata": {},
   "outputs": [],
   "source": [
    "block_race_ethnicity_select[\"GISJOIN_blck\"] = block_race_ethnicity_select.GISJOIN.str[0:3]+block_race_ethnicity_select.GISJOIN.str[4:7]+block_race_ethnicity_select.GISJOIN.str[8:18]"
   ]
  },
  {
   "cell_type": "code",
   "execution_count": 20,
   "metadata": {},
   "outputs": [],
   "source": [
    "block_race_ethnicity_select_us = isrm_fips_crosswalk[[\"isrm_grid_cell_num\",\"GISJOIN_blck\"]].merge(block_race_ethnicity_select,how = \"left\").drop(columns = \"GISJOIN\")"
   ]
  },
  {
   "cell_type": "code",
   "execution_count": 21,
   "metadata": {},
   "outputs": [],
   "source": [
    "isrm_pop_race_ethnicity = block_race_ethnicity_select_us.groupby([\"isrm_grid_cell_num\"]).sum().reset_index().rename(columns = {\"isrm_grid_cell_num\":\"isrm\"})"
   ]
  },
  {
   "cell_type": "code",
   "execution_count": 22,
   "metadata": {},
   "outputs": [],
   "source": [
    "isrm_pop_race_ethnicity.to_csv(\"isrm_pop_race_ethnicity.csv\")"
   ]
  },
  {
   "cell_type": "code",
   "execution_count": 23,
   "metadata": {},
   "outputs": [],
   "source": [
    "isrm_pop_race_ethnicity_J40_v1_land = isrm_pop_race_ethnicity[isrm_pop_race_ethnicity.isrm.isin(isrm_justice40_crosswalk[isrm_justice40_crosswalk[\"flag_j40_v1_land\"]==True].reset_index(drop = True).isrm.to_list())].reset_index(drop = True)"
   ]
  },
  {
   "cell_type": "code",
   "execution_count": 24,
   "metadata": {},
   "outputs": [],
   "source": [
    "isrm_pop_race_ethnicity_J40_v1_land.to_csv(\"isrm_pop_race_ethnicity_J40_v1_land.csv\")"
   ]
  },
  {
   "cell_type": "code",
   "execution_count": 25,
   "metadata": {
    "scrolled": true
   },
   "outputs": [],
   "source": [
    "isrm_pop_race_ethnicity_outside_v1_land = isrm_pop_race_ethnicity[~isrm_pop_race_ethnicity.isrm.isin(isrm_justice40_crosswalk[isrm_justice40_crosswalk[\"flag_j40_v1_land\"]==True].reset_index(drop = True).isrm.to_list())].reset_index(drop = True)"
   ]
  },
  {
   "cell_type": "code",
   "execution_count": 26,
   "metadata": {},
   "outputs": [],
   "source": [
    "isrm_pop_race_ethnicity_outside_v1_land.to_csv(\"isrm_pop_race_ethnicity_outside_v1_land.csv\")"
   ]
  }
 ],
 "metadata": {
  "kernelspec": {
   "display_name": "Python 3",
   "language": "python",
   "name": "python3"
  },
  "language_info": {
   "codemirror_mode": {
    "name": "ipython",
    "version": 3
   },
   "file_extension": ".py",
   "mimetype": "text/x-python",
   "name": "python",
   "nbconvert_exporter": "python",
   "pygments_lexer": "ipython3",
   "version": "3.7.5"
  }
 },
 "nbformat": 4,
 "nbformat_minor": 2
}
